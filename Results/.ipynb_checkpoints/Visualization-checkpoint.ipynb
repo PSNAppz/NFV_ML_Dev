{
 "cells": [
  {
   "cell_type": "code",
   "execution_count": 1,
   "metadata": {},
   "outputs": [],
   "source": [
    "import pandas as pd\n",
    "import numpy as np\n",
    "import matplotlib.pyplot as plt\n",
    "import matplotlib as mpl\n",
    "import seaborn as sns\n",
    "import sklearn\n",
    "import yaml\n",
    "import sys\n",
    "%matplotlib inline"
   ]
  },
  {
   "cell_type": "code",
   "execution_count": 2,
   "metadata": {},
   "outputs": [
    {
     "name": "stdout",
     "output_type": "stream",
     "text": [
      "Python version: 3.7.1 (default, Dec  7 2018, 07:03:36) \n",
      "[Clang 10.0.0 (clang-1000.11.45.2)] \n",
      "\n",
      "Matplotlib version: 3.0.1\n",
      "Numpy version: 1.15.3\n",
      "Sklearn version: 0.20.0\n",
      "Seaborn version: 0.9.0\n",
      "Pandas version: 0.23.4\n"
     ]
    }
   ],
   "source": [
    "libraries = (('Matplotlib', mpl), ('Numpy', np), \n",
    "                ('Sklearn', sklearn), ('Seaborn', sns), \n",
    "            ('Pandas', pd))\n",
    "\n",
    "print(\"Python version:\", sys.version, '\\n')\n",
    "for lib in libraries:\n",
    "    print('{0} version: {1}'.format(lib[0], lib[1].__version__))"
   ]
  },
  {
   "cell_type": "code",
   "execution_count": 10,
   "metadata": {},
   "outputs": [
    {
     "name": "stdout",
     "output_type": "stream",
     "text": [
      "{'input': {'algorithm': 'bjointsp', 'fixed': 'None', 'network': 'Abilene.graphml', 'num_edges': 14, 'num_nodes': 11, 'num_sources': 1, 'num_vnfs': 3, 'objective': 0, 'prev_embedding': 'None', 'seed': 7480, 'service': 'fw1chain.yaml', 'sources': 'source0.yaml'}, 'metrics': {'changed': [{'name': 'vnf_web', 'node': 'pop2'}, {'name': 'vnf_fw1', 'node': 'pop0'}, {'name': 'vnf_user', 'node': 'pop0'}], 'max_cpu_oversub': 9, 'max_dr_oversub': 0, 'max_endToEnd_delay': 56, 'max_mem_oversub': 0, 'num_changed': 3, 'num_instances': 3, 'obj_value': 903030056.0, 'path_delays': [{'dest': 'vnf_fw1', 'dest_node': 'pop0', 'path_delay': 0, 'src': 'vnf_user', 'src_node': 'pop0'}, {'dest': 'vnf_web', 'dest_node': 'pop2', 'path_delay': 1, 'src': 'vnf_fw1', 'src_node': 'pop0'}], 'runtime': 0.04155921936035156, 'total_delay': 56, 'total_path_delay': 1, 'total_vnf_delay': 55, 'vnf_delays': [{'vnf': 'vnf_web', 'vnf_delay': 20}, {'vnf': 'vnf_fw1', 'vnf_delay': 35}, {'vnf': 'vnf_user', 'vnf_delay': 0}]}, 'placement': {'alloc_node_res': [{'cpu': 10, 'mem': 0, 'name': 'vnf_web', 'node': 'pop2'}, {'cpu': 10, 'mem': 0, 'name': 'vnf_fw1', 'node': 'pop0'}, {'cpu': 0, 'mem': 0, 'name': 'vnf_user', 'node': 'pop0'}], 'cpu_oversub': [{'node': 'pop0'}, {'node': 'pop2'}], 'dr_oversub': [], 'flows': [{'arc': 'vnf_user.0->vnf_fw1.0', 'dst_node': 'pop0', 'flow_id': 'f1', 'src_node': 'pop0'}, {'arc': 'vnf_fw1.0->vnf_web.0', 'dst_node': 'pop2', 'flow_id': 'f1', 'src_node': 'pop0'}], 'links': [{'arc': 'vnf_fw1.0->vnf_web.0', 'edge_dst': 'pop2', 'edge_src': 'pop0', 'link_dst': 'pop2', 'link_src': 'pop0'}], 'mem_oversub': [], 'vlinks': [{'dest_node': 'pop0', 'dest_vnf': 'vnf_fw1', 'src_node': 'pop0', 'src_vnf': 'vnf_user'}, {'dest_node': 'pop2', 'dest_vnf': 'vnf_web', 'src_node': 'pop0', 'src_vnf': 'vnf_fw1'}], 'vnfs': [{'image': '{\"image\":\"placement-apache-img\", \"network\":\"(id=input,ip=99.0.0.2/24)\"}', 'name': 'vnf_web', 'node': 'pop2'}, {'image': '{\"image\":\"placement-fw1-img\", \"network\":\"(id=input,ip=88.0.0.2/24),(id=output,ip=99.0.0.1/24)\"}', 'name': 'vnf_fw1', 'node': 'pop0'}, {'image': '{\"image\":\"placement-user-img\", \"network\":\"(id=output,ip=10.0.0.1/24)\"}', 'name': 'vnf_user', 'node': 'pop0'}]}, 'time': '2019-07-29_00-51-32'}\n",
      "{'input': {'algorithm': 'bjointsp', 'fixed': 'None', 'network': 'Abilene.graphml', 'num_edges': 14, 'num_nodes': 11, 'num_sources': 1, 'num_vnfs': 3, 'objective': 0, 'prev_embedding': 'None', 'seed': 7480, 'service': 'fw1chain.yaml', 'sources': 'source0.yaml'}, 'metrics': {'changed': [{'name': 'vnf_web', 'node': 'pop2'}, {'name': 'vnf_fw1', 'node': 'pop0'}, {'name': 'vnf_user', 'node': 'pop0'}], 'max_cpu_oversub': 9, 'max_dr_oversub': 0, 'max_endToEnd_delay': 56, 'max_mem_oversub': 0, 'num_changed': 3, 'num_instances': 3, 'obj_value': 903030056.0, 'path_delays': [{'dest': 'vnf_fw1', 'dest_node': 'pop0', 'path_delay': 0, 'src': 'vnf_user', 'src_node': 'pop0'}, {'dest': 'vnf_web', 'dest_node': 'pop2', 'path_delay': 1, 'src': 'vnf_fw1', 'src_node': 'pop0'}], 'runtime': 0.04155921936035156, 'total_delay': 56, 'total_path_delay': 1, 'total_vnf_delay': 55, 'vnf_delays': [{'vnf': 'vnf_web', 'vnf_delay': 20}, {'vnf': 'vnf_fw1', 'vnf_delay': 35}, {'vnf': 'vnf_user', 'vnf_delay': 0}]}, 'placement': {'alloc_node_res': [{'cpu': 10, 'mem': 0, 'name': 'vnf_web', 'node': 'pop2'}, {'cpu': 10, 'mem': 0, 'name': 'vnf_fw1', 'node': 'pop0'}, {'cpu': 0, 'mem': 0, 'name': 'vnf_user', 'node': 'pop0'}], 'cpu_oversub': [{'node': 'pop0'}, {'node': 'pop2'}], 'dr_oversub': [], 'flows': [{'arc': 'vnf_user.0->vnf_fw1.0', 'dst_node': 'pop0', 'flow_id': 'f1', 'src_node': 'pop0'}, {'arc': 'vnf_fw1.0->vnf_web.0', 'dst_node': 'pop2', 'flow_id': 'f1', 'src_node': 'pop0'}], 'links': [{'arc': 'vnf_fw1.0->vnf_web.0', 'edge_dst': 'pop2', 'edge_src': 'pop0', 'link_dst': 'pop2', 'link_src': 'pop0'}], 'mem_oversub': [], 'vlinks': [{'dest_node': 'pop0', 'dest_vnf': 'vnf_fw1', 'src_node': 'pop0', 'src_vnf': 'vnf_user'}, {'dest_node': 'pop2', 'dest_vnf': 'vnf_web', 'src_node': 'pop0', 'src_vnf': 'vnf_fw1'}], 'vnfs': [{'image': '{\"image\":\"placement-apache-img\", \"network\":\"(id=input,ip=99.0.0.2/24)\"}', 'name': 'vnf_web', 'node': 'pop2'}, {'image': '{\"image\":\"placement-fw1-img\", \"network\":\"(id=input,ip=88.0.0.2/24),(id=output,ip=99.0.0.1/24)\"}', 'name': 'vnf_fw1', 'node': 'pop0'}, {'image': '{\"image\":\"placement-user-img\", \"network\":\"(id=output,ip=10.0.0.1/24)\"}', 'name': 'vnf_user', 'node': 'pop0'}]}, 'time': '2019-07-29_00-51-32'}\n",
      "{'input': {'algorithm': 'bjointsp', 'fixed': 'None', 'network': 'Abilene.graphml', 'num_edges': 14, 'num_nodes': 11, 'num_sources': 1, 'num_vnfs': 3, 'objective': 0, 'prev_embedding': 'None', 'seed': 7480, 'service': 'fw1chain.yaml', 'sources': 'source0.yaml'}, 'metrics': {'changed': [{'name': 'vnf_web', 'node': 'pop2'}, {'name': 'vnf_fw1', 'node': 'pop0'}, {'name': 'vnf_user', 'node': 'pop0'}], 'max_cpu_oversub': 9, 'max_dr_oversub': 0, 'max_endToEnd_delay': 56, 'max_mem_oversub': 0, 'num_changed': 3, 'num_instances': 3, 'obj_value': 903030056.0, 'path_delays': [{'dest': 'vnf_fw1', 'dest_node': 'pop0', 'path_delay': 0, 'src': 'vnf_user', 'src_node': 'pop0'}, {'dest': 'vnf_web', 'dest_node': 'pop2', 'path_delay': 1, 'src': 'vnf_fw1', 'src_node': 'pop0'}], 'runtime': 0.04155921936035156, 'total_delay': 56, 'total_path_delay': 1, 'total_vnf_delay': 55, 'vnf_delays': [{'vnf': 'vnf_web', 'vnf_delay': 20}, {'vnf': 'vnf_fw1', 'vnf_delay': 35}, {'vnf': 'vnf_user', 'vnf_delay': 0}]}, 'placement': {'alloc_node_res': [{'cpu': 10, 'mem': 0, 'name': 'vnf_web', 'node': 'pop2'}, {'cpu': 10, 'mem': 0, 'name': 'vnf_fw1', 'node': 'pop0'}, {'cpu': 0, 'mem': 0, 'name': 'vnf_user', 'node': 'pop0'}], 'cpu_oversub': [{'node': 'pop0'}, {'node': 'pop2'}], 'dr_oversub': [], 'flows': [{'arc': 'vnf_user.0->vnf_fw1.0', 'dst_node': 'pop0', 'flow_id': 'f1', 'src_node': 'pop0'}, {'arc': 'vnf_fw1.0->vnf_web.0', 'dst_node': 'pop2', 'flow_id': 'f1', 'src_node': 'pop0'}], 'links': [{'arc': 'vnf_fw1.0->vnf_web.0', 'edge_dst': 'pop2', 'edge_src': 'pop0', 'link_dst': 'pop2', 'link_src': 'pop0'}], 'mem_oversub': [], 'vlinks': [{'dest_node': 'pop0', 'dest_vnf': 'vnf_fw1', 'src_node': 'pop0', 'src_vnf': 'vnf_user'}, {'dest_node': 'pop2', 'dest_vnf': 'vnf_web', 'src_node': 'pop0', 'src_vnf': 'vnf_fw1'}], 'vnfs': [{'image': '{\"image\":\"placement-apache-img\", \"network\":\"(id=input,ip=99.0.0.2/24)\"}', 'name': 'vnf_web', 'node': 'pop2'}, {'image': '{\"image\":\"placement-fw1-img\", \"network\":\"(id=input,ip=88.0.0.2/24),(id=output,ip=99.0.0.1/24)\"}', 'name': 'vnf_fw1', 'node': 'pop0'}, {'image': '{\"image\":\"placement-user-img\", \"network\":\"(id=output,ip=10.0.0.1/24)\"}', 'name': 'vnf_user', 'node': 'pop0'}]}, 'time': '2019-07-29_00-51-32'}\n",
      "{'input': {'algorithm': 'bjointsp', 'fixed': 'None', 'network': 'Abilene.graphml', 'num_edges': 14, 'num_nodes': 11, 'num_sources': 1, 'num_vnfs': 3, 'objective': 0, 'prev_embedding': 'None', 'seed': 7480, 'service': 'fw1chain.yaml', 'sources': 'source0.yaml'}, 'metrics': {'changed': [{'name': 'vnf_web', 'node': 'pop2'}, {'name': 'vnf_fw1', 'node': 'pop0'}, {'name': 'vnf_user', 'node': 'pop0'}], 'max_cpu_oversub': 9, 'max_dr_oversub': 0, 'max_endToEnd_delay': 56, 'max_mem_oversub': 0, 'num_changed': 3, 'num_instances': 3, 'obj_value': 903030056.0, 'path_delays': [{'dest': 'vnf_fw1', 'dest_node': 'pop0', 'path_delay': 0, 'src': 'vnf_user', 'src_node': 'pop0'}, {'dest': 'vnf_web', 'dest_node': 'pop2', 'path_delay': 1, 'src': 'vnf_fw1', 'src_node': 'pop0'}], 'runtime': 0.04155921936035156, 'total_delay': 56, 'total_path_delay': 1, 'total_vnf_delay': 55, 'vnf_delays': [{'vnf': 'vnf_web', 'vnf_delay': 20}, {'vnf': 'vnf_fw1', 'vnf_delay': 35}, {'vnf': 'vnf_user', 'vnf_delay': 0}]}, 'placement': {'alloc_node_res': [{'cpu': 10, 'mem': 0, 'name': 'vnf_web', 'node': 'pop2'}, {'cpu': 10, 'mem': 0, 'name': 'vnf_fw1', 'node': 'pop0'}, {'cpu': 0, 'mem': 0, 'name': 'vnf_user', 'node': 'pop0'}], 'cpu_oversub': [{'node': 'pop0'}, {'node': 'pop2'}], 'dr_oversub': [], 'flows': [{'arc': 'vnf_user.0->vnf_fw1.0', 'dst_node': 'pop0', 'flow_id': 'f1', 'src_node': 'pop0'}, {'arc': 'vnf_fw1.0->vnf_web.0', 'dst_node': 'pop2', 'flow_id': 'f1', 'src_node': 'pop0'}], 'links': [{'arc': 'vnf_fw1.0->vnf_web.0', 'edge_dst': 'pop2', 'edge_src': 'pop0', 'link_dst': 'pop2', 'link_src': 'pop0'}], 'mem_oversub': [], 'vlinks': [{'dest_node': 'pop0', 'dest_vnf': 'vnf_fw1', 'src_node': 'pop0', 'src_vnf': 'vnf_user'}, {'dest_node': 'pop2', 'dest_vnf': 'vnf_web', 'src_node': 'pop0', 'src_vnf': 'vnf_fw1'}], 'vnfs': [{'image': '{\"image\":\"placement-apache-img\", \"network\":\"(id=input,ip=99.0.0.2/24)\"}', 'name': 'vnf_web', 'node': 'pop2'}, {'image': '{\"image\":\"placement-fw1-img\", \"network\":\"(id=input,ip=88.0.0.2/24),(id=output,ip=99.0.0.1/24)\"}', 'name': 'vnf_fw1', 'node': 'pop0'}, {'image': '{\"image\":\"placement-user-img\", \"network\":\"(id=output,ip=10.0.0.1/24)\"}', 'name': 'vnf_user', 'node': 'pop0'}]}, 'time': '2019-07-29_00-51-32'}\n"
     ]
    }
   ],
   "source": [
    "with open(\"Default/Abilene-fw1chain-source0-2019-07-29_00-51-32_7480.yaml\", 'r') as stream:\n",
    "    try:\n",
    "        #print(yaml.safe_load(stream))\n",
    "        for data in yaml.load_all(stream):\n",
    "            for dat in data:\n",
    "                print(data)\n",
    "    except yaml.YAMLError as exc:\n",
    "        print(exc)"
   ]
  },
  {
   "cell_type": "code",
   "execution_count": null,
   "metadata": {},
   "outputs": [],
   "source": []
  }
 ],
 "metadata": {
  "kernelspec": {
   "display_name": "Python 3",
   "language": "python",
   "name": "python3"
  },
  "language_info": {
   "codemirror_mode": {
    "name": "ipython",
    "version": 3
   },
   "file_extension": ".py",
   "mimetype": "text/x-python",
   "name": "python",
   "nbconvert_exporter": "python",
   "pygments_lexer": "ipython3",
   "version": "3.7.1"
  }
 },
 "nbformat": 4,
 "nbformat_minor": 2
}
