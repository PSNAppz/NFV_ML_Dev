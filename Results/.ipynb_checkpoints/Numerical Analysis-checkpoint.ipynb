{
 "cells": [
  {
   "cell_type": "markdown",
   "metadata": {},
   "source": [
    "## Numerical Analysis"
   ]
  },
  {
   "cell_type": "code",
   "execution_count": 19,
   "metadata": {},
   "outputs": [],
   "source": [
    "import pandas as pd\n",
    "import numpy as np\n",
    "import matplotlib.pyplot as plt\n",
    "import matplotlib as mpl\n",
    "import seaborn as sns\n",
    "import sklearn\n",
    "import yaml\n",
    "import sys\n",
    "import os\n",
    "%matplotlib inline"
   ]
  },
  {
   "cell_type": "code",
   "execution_count": 20,
   "metadata": {},
   "outputs": [],
   "source": [
    "# get data for visualization\n",
    "def getAllData(path):\n",
    "    data = []\n",
    "    for i in range(1,11):\n",
    "        data.append(yaml.safe_load(open(os.path.join(path,\"\".join((\"File\"+str(i),'.yaml'))))))\n",
    "    return data"
   ]
  },
  {
   "cell_type": "code",
   "execution_count": 21,
   "metadata": {},
   "outputs": [],
   "source": [
    "# get runtime data for visualization\n",
    "def getRunTimeData(path):\n",
    "    data = []\n",
    "    for i in range(1,31):\n",
    "        data.append(yaml.safe_load(open(os.path.join(path,\"\".join((\"File\"+str(i),'.yaml'))))))\n",
    "    return data"
   ]
  },
  {
   "cell_type": "code",
   "execution_count": 22,
   "metadata": {},
   "outputs": [],
   "source": [
    "# Collect CPU data for visualization\n",
    "def getData(path):\n",
    "    data = []\n",
    "    cpu = []\n",
    "    for i in range(1,8):\n",
    "        data.append(yaml.safe_load(open(os.path.join(path,\"\".join((\"AB\"+str(i),'.yaml'))))))\n",
    "        if(data[i-1]['placement']['alloc_node_res'][2]['name'] != 'vnf_user'):\n",
    "            cpu.append(data[i-1]['placement']['alloc_node_res'][2]['cpu'])\n",
    "        else:\n",
    "            cpu.append(data[i-1]['placement']['alloc_node_res'][1]['cpu'])\n",
    "    return cpu"
   ]
  },
  {
   "cell_type": "code",
   "execution_count": 23,
   "metadata": {},
   "outputs": [],
   "source": [
    "# Collect placement data\n",
    "def getPlacementData(path):\n",
    "    data = []\n",
    "    placement = []\n",
    "    for i in range(1,8):\n",
    "        data.append(yaml.safe_load(open(os.path.join(path,\"\".join((\"AB\"+str(i),'.yaml'))))))\n",
    "        placement.append(data[i-1]['placement']['vnfs'][0]['name']+\":\"+data[i-1]['placement']['vnfs'][0]['node'])\n",
    "        placement.append(data[i-1]['placement']['vnfs'][1]['name']+\":\"+data[i-1]['placement']['vnfs'][1]['node'])\n",
    "        placement.append(data[i-1]['placement']['vnfs'][2]['name']+\":\"+data[i-1]['placement']['vnfs'][2]['node'])\n",
    "    return placement"
   ]
  },
  {
   "cell_type": "code",
   "execution_count": 34,
   "metadata": {},
   "outputs": [],
   "source": [
    "#data\n",
    "groundTruth = []\n",
    "linear = []\n",
    "xgb = []\n",
    "gb = []\n",
    "\n",
    "\n",
    "# CPU vars\n",
    "CPU_groundTruth = []\n",
    "CPU_linear = []\n",
    "CPU_xgboost = []\n",
    "CPU_gb = []\n",
    "\n",
    "# Instances vars\n",
    "I_groundTruth = []\n",
    "I_linear = []\n",
    "I_xgboost = []\n",
    "I_gb = []\n",
    "\n",
    "\n",
    "# End_to_End_Delays vars\n",
    "D_groundTruth = []\n",
    "D_linear = []\n",
    "D_xgboost = []\n",
    "D_gb = []\n",
    "\n",
    "# Runtime vars\n",
    "R_groundTruth = []\n",
    "R_linear = []\n",
    "R_xgboost = []\n",
    "R_gb = []\n",
    "\n",
    "\n",
    "\n",
    "\n",
    "# Syn. Log data\n",
    "inv = getAllData('Analysis/Abilene/fw1chain/inv')\n",
    "xgb = getAllData('Analysis/Abilene/fw1chain/XGB')\n",
    "linear = getAllData('Analysis/Abilene/fw1chain/Linear')\n",
    "gb = getAllData('Analysis/Abilene/fw1chain/gb')\n",
    "nodes = [1, 2, 3, 4, 5, 6, 7, 8, 9, 10] \n",
    "datasets = [inv,linear,xgb,gb]\n",
    "totalCPU = 0.0\n",
    "max_delay = 0\n",
    "avg_run = 0.0\n",
    "\n",
    "CPU_models = [CPU_groundTruth,CPU_linear,CPU_xgboost,CPU_gb]\n",
    "for m in range(0,len(CPU_models)):\n",
    "    for i in range(0,10):\n",
    "        #print(\"\\nFile\",i+1,\"\\n\")\n",
    "        totalCPU = 0\n",
    "        for j in range(0,len(datasets[m][i]['placement']['alloc_node_res'])):\n",
    "            #print(datasets[m][i]['placement']['alloc_node_res'][j])\n",
    "            totalCPU += datasets[m][i]['placement']['alloc_node_res'][j]['cpu']\n",
    "        CPU_models[m].append(totalCPU)\n",
    "        #print(totalCPU)\n",
    "\n",
    "Instance_models = [I_groundTruth,I_linear,I_xgboost,I_gb]\n",
    "End_delays = [D_groundTruth,D_linear,D_xgboost,D_gb]\n",
    "# Syn. log data\n",
    "inv = getAllData('Analysis/Abilene/fw3chain/inv')\n",
    "xgb = getAllData('Analysis/Abilene/fw3chain/XGB')\n",
    "linear = getAllData('Analysis/Abilene/fw3chain/Linear')\n",
    "gb = getAllData('Analysis/Abilene/fw3chain/gb')\n",
    "\n",
    "datasets = [inv,linear,xgb,gb]\n",
    "   \n",
    "for m in range(0,len(Instance_models)):\n",
    "    for i in range(0,10):\n",
    "        #print(\"\\nFile\",i+1,\"\\n\")\n",
    "        totalInstances = 0\n",
    "        max_delay = 0\n",
    "        totalInstances = datasets[m][i]['metrics']['num_instances']\n",
    "        max_delay = datasets[m][i]['metrics']['max_endToEnd_delay']\n",
    "        Instance_models[m].append(totalInstances)\n",
    "        End_delays[m].append(max_delay)\n",
    "        #print(max_delay)        \n",
    "\n",
    "        \n",
    "# Real data\n",
    "inv = getRunTimeData('Extended/Synthetic_ML_Model_Results/inv/Source9/')\n",
    "xgb = getRunTimeData('Extended/Synthetic_ML_Model_Results/XGBoost/Source9/')\n",
    "linear = getRunTimeData('Extended/Synthetic_ML_Model_Results/linear/Source9/')\n",
    "gb = getRunTimeData('Extended/Synthetic_ML_Model_Results/gb/Source9/')\n",
    "\n",
    "datasets = [inv,linear,xgb,gb]\n",
    "runTimes = [R_groundTruth, R_linear, R_xgboost, R_gb]\n",
    "for m in range(0,len(runTimes)):\n",
    "    avg_run = 0\n",
    "    for i in range(0,30):\n",
    "        totalInstances = 0\n",
    "        avg_run += datasets[m][i]['metrics']['runtime']\n",
    "        runTimes[m].append(avg_run)\n"
   ]
  },
  {
   "cell_type": "code",
   "execution_count": 37,
   "metadata": {},
   "outputs": [
    {
     "ename": "TypeError",
     "evalue": "__init__() got an unexpected keyword argument 'color'",
     "output_type": "error",
     "traceback": [
      "\u001b[0;31m---------------------------------------------------------------------------\u001b[0m",
      "\u001b[0;31mTypeError\u001b[0m                                 Traceback (most recent call last)",
      "\u001b[0;32m<ipython-input-37-6c935a83a18f>\u001b[0m in \u001b[0;36m<module>\u001b[0;34m\u001b[0m\n\u001b[1;32m      4\u001b[0m \u001b[0mfig\u001b[0m \u001b[0;34m=\u001b[0m \u001b[0mplt\u001b[0m\u001b[0;34m.\u001b[0m\u001b[0mfigure\u001b[0m\u001b[0;34m(\u001b[0m\u001b[0mfigsize\u001b[0m\u001b[0;34m=\u001b[0m\u001b[0;34m(\u001b[0m\u001b[0;36m10\u001b[0m\u001b[0;34m,\u001b[0m \u001b[0;36m10\u001b[0m\u001b[0;34m)\u001b[0m\u001b[0;34m)\u001b[0m\u001b[0;34m\u001b[0m\u001b[0;34m\u001b[0m\u001b[0m\n\u001b[1;32m      5\u001b[0m \u001b[0;32mfor\u001b[0m \u001b[0mi\u001b[0m \u001b[0;32min\u001b[0m \u001b[0mrange\u001b[0m\u001b[0;34m(\u001b[0m\u001b[0;36m0\u001b[0m\u001b[0;34m,\u001b[0m\u001b[0mlen\u001b[0m\u001b[0;34m(\u001b[0m\u001b[0mCPU_models\u001b[0m\u001b[0;34m)\u001b[0m\u001b[0;34m)\u001b[0m\u001b[0;34m:\u001b[0m\u001b[0;34m\u001b[0m\u001b[0;34m\u001b[0m\u001b[0m\n\u001b[0;32m----> 6\u001b[0;31m     \u001b[0mplt\u001b[0m\u001b[0;34m.\u001b[0m\u001b[0msubplots\u001b[0m\u001b[0;34m(\u001b[0m\u001b[0mnodes\u001b[0m\u001b[0;34m,\u001b[0m \u001b[0mCPU_models\u001b[0m\u001b[0;34m[\u001b[0m\u001b[0mi\u001b[0m\u001b[0;34m]\u001b[0m\u001b[0;34m,\u001b[0m \u001b[0mcolor\u001b[0m\u001b[0;34m=\u001b[0m\u001b[0mmodelProperties\u001b[0m\u001b[0;34m[\u001b[0m\u001b[0mi\u001b[0m\u001b[0;34m]\u001b[0m\u001b[0;34m[\u001b[0m\u001b[0;34m\"color\"\u001b[0m\u001b[0;34m]\u001b[0m\u001b[0;34m,\u001b[0m \u001b[0mmarker\u001b[0m\u001b[0;34m=\u001b[0m\u001b[0mmodelProperties\u001b[0m\u001b[0;34m[\u001b[0m\u001b[0mi\u001b[0m\u001b[0;34m]\u001b[0m\u001b[0;34m[\u001b[0m\u001b[0;34m\"marker\"\u001b[0m\u001b[0;34m]\u001b[0m\u001b[0;34m,\u001b[0m \u001b[0mlabel\u001b[0m\u001b[0;34m=\u001b[0m\u001b[0mmodelProperties\u001b[0m\u001b[0;34m[\u001b[0m\u001b[0mi\u001b[0m\u001b[0;34m]\u001b[0m\u001b[0;34m[\u001b[0m\u001b[0;34m\"name\"\u001b[0m\u001b[0;34m]\u001b[0m\u001b[0;34m)\u001b[0m\u001b[0;34m\u001b[0m\u001b[0;34m\u001b[0m\u001b[0m\n\u001b[0m\u001b[1;32m      7\u001b[0m \u001b[0mplt\u001b[0m\u001b[0;34m.\u001b[0m\u001b[0mxlabel\u001b[0m\u001b[0;34m(\u001b[0m\u001b[0;34m'#No. of source flows'\u001b[0m\u001b[0;34m)\u001b[0m\u001b[0;34m\u001b[0m\u001b[0;34m\u001b[0m\u001b[0m\n\u001b[1;32m      8\u001b[0m \u001b[0mplt\u001b[0m\u001b[0;34m.\u001b[0m\u001b[0mylabel\u001b[0m\u001b[0;34m(\u001b[0m\u001b[0;34m'Total CPU'\u001b[0m\u001b[0;34m)\u001b[0m\u001b[0;34m\u001b[0m\u001b[0;34m\u001b[0m\u001b[0m\n",
      "\u001b[0;32m/usr/local/lib/python3.7/site-packages/matplotlib/pyplot.py\u001b[0m in \u001b[0;36msubplots\u001b[0;34m(nrows, ncols, sharex, sharey, squeeze, subplot_kw, gridspec_kw, **fig_kw)\u001b[0m\n\u001b[1;32m   1215\u001b[0m \u001b[0;34m\u001b[0m\u001b[0m\n\u001b[1;32m   1216\u001b[0m     \"\"\"\n\u001b[0;32m-> 1217\u001b[0;31m     \u001b[0mfig\u001b[0m \u001b[0;34m=\u001b[0m \u001b[0mfigure\u001b[0m\u001b[0;34m(\u001b[0m\u001b[0;34m**\u001b[0m\u001b[0mfig_kw\u001b[0m\u001b[0;34m)\u001b[0m\u001b[0;34m\u001b[0m\u001b[0;34m\u001b[0m\u001b[0m\n\u001b[0m\u001b[1;32m   1218\u001b[0m     axs = fig.subplots(nrows=nrows, ncols=ncols, sharex=sharex, sharey=sharey,\n\u001b[1;32m   1219\u001b[0m                        \u001b[0msqueeze\u001b[0m\u001b[0;34m=\u001b[0m\u001b[0msqueeze\u001b[0m\u001b[0;34m,\u001b[0m \u001b[0msubplot_kw\u001b[0m\u001b[0;34m=\u001b[0m\u001b[0msubplot_kw\u001b[0m\u001b[0;34m,\u001b[0m\u001b[0;34m\u001b[0m\u001b[0;34m\u001b[0m\u001b[0m\n",
      "\u001b[0;32m/usr/local/lib/python3.7/site-packages/matplotlib/pyplot.py\u001b[0m in \u001b[0;36mfigure\u001b[0;34m(num, figsize, dpi, facecolor, edgecolor, frameon, FigureClass, clear, **kwargs)\u001b[0m\n\u001b[1;32m    523\u001b[0m                                         \u001b[0mframeon\u001b[0m\u001b[0;34m=\u001b[0m\u001b[0mframeon\u001b[0m\u001b[0;34m,\u001b[0m\u001b[0;34m\u001b[0m\u001b[0;34m\u001b[0m\u001b[0m\n\u001b[1;32m    524\u001b[0m                                         \u001b[0mFigureClass\u001b[0m\u001b[0;34m=\u001b[0m\u001b[0mFigureClass\u001b[0m\u001b[0;34m,\u001b[0m\u001b[0;34m\u001b[0m\u001b[0;34m\u001b[0m\u001b[0m\n\u001b[0;32m--> 525\u001b[0;31m                                         **kwargs)\n\u001b[0m\u001b[1;32m    526\u001b[0m \u001b[0;34m\u001b[0m\u001b[0m\n\u001b[1;32m    527\u001b[0m         \u001b[0;32mif\u001b[0m \u001b[0mfigLabel\u001b[0m\u001b[0;34m:\u001b[0m\u001b[0;34m\u001b[0m\u001b[0;34m\u001b[0m\u001b[0m\n",
      "\u001b[0;32m/usr/local/lib/python3.7/site-packages/matplotlib/backend_bases.py\u001b[0m in \u001b[0;36mnew_figure_manager\u001b[0;34m(cls, num, *args, **kwargs)\u001b[0m\n\u001b[1;32m   3215\u001b[0m         \u001b[0;32mfrom\u001b[0m \u001b[0mmatplotlib\u001b[0m\u001b[0;34m.\u001b[0m\u001b[0mfigure\u001b[0m \u001b[0;32mimport\u001b[0m \u001b[0mFigure\u001b[0m\u001b[0;34m\u001b[0m\u001b[0;34m\u001b[0m\u001b[0m\n\u001b[1;32m   3216\u001b[0m         \u001b[0mfig_cls\u001b[0m \u001b[0;34m=\u001b[0m \u001b[0mkwargs\u001b[0m\u001b[0;34m.\u001b[0m\u001b[0mpop\u001b[0m\u001b[0;34m(\u001b[0m\u001b[0;34m'FigureClass'\u001b[0m\u001b[0;34m,\u001b[0m \u001b[0mFigure\u001b[0m\u001b[0;34m)\u001b[0m\u001b[0;34m\u001b[0m\u001b[0;34m\u001b[0m\u001b[0m\n\u001b[0;32m-> 3217\u001b[0;31m         \u001b[0mfig\u001b[0m \u001b[0;34m=\u001b[0m \u001b[0mfig_cls\u001b[0m\u001b[0;34m(\u001b[0m\u001b[0;34m*\u001b[0m\u001b[0margs\u001b[0m\u001b[0;34m,\u001b[0m \u001b[0;34m**\u001b[0m\u001b[0mkwargs\u001b[0m\u001b[0;34m)\u001b[0m\u001b[0;34m\u001b[0m\u001b[0;34m\u001b[0m\u001b[0m\n\u001b[0m\u001b[1;32m   3218\u001b[0m         \u001b[0;32mreturn\u001b[0m \u001b[0mcls\u001b[0m\u001b[0;34m.\u001b[0m\u001b[0mnew_figure_manager_given_figure\u001b[0m\u001b[0;34m(\u001b[0m\u001b[0mnum\u001b[0m\u001b[0;34m,\u001b[0m \u001b[0mfig\u001b[0m\u001b[0;34m)\u001b[0m\u001b[0;34m\u001b[0m\u001b[0;34m\u001b[0m\u001b[0m\n\u001b[1;32m   3219\u001b[0m \u001b[0;34m\u001b[0m\u001b[0m\n",
      "\u001b[0;31mTypeError\u001b[0m: __init__() got an unexpected keyword argument 'color'"
     ]
    },
    {
     "data": {
      "text/plain": [
       "<Figure size 720x720 with 0 Axes>"
      ]
     },
     "metadata": {},
     "output_type": "display_data"
    }
   ],
   "source": [
    "# total CPU plot\n",
    "\n",
    "modelProperties = [{\"name\":\"Ground Truth\",\"color\": \"y\",\"marker\":\"p\"},{\"name\":\"Linear Regression\",\"color\":\"b\",\"marker\":\"p\"},{\"name\":\"XGBoost\",\"color\":\"r\",\"marker\":\"^\"},{\"name\":\"Gradient Boost\",\"color\":\"g\",\"marker\":\"*\"}]\n",
    "fig = plt.figure(figsize=(10, 10))\n",
    "for i in range(0,len(CPU_models)):\n",
    "    plt.subplots(nodes, CPU_models[i], label=modelProperties[i][\"name\"])\n",
    "plt.xlabel('#No. of source flows')\n",
    "plt.ylabel('Total CPU')\n",
    "plt.title('Total CPU Usage Prediction')\n",
    "plt.legend()\n",
    "plt.show()"
   ]
  },
  {
   "cell_type": "code",
   "execution_count": 36,
   "metadata": {},
   "outputs": [
    {
     "data": {
      "text/plain": [
       "Text(0, 0.5, 'No. of Instances')"
      ]
     },
     "execution_count": 36,
     "metadata": {},
     "output_type": "execute_result"
    },
    {
     "data": {
      "image/png": "[encoded data removed]",
      "text/plain": [
       "<Figure size 360x360 with 1 Axes>"
      ]
     },
     "metadata": {
      "needs_background": "light"
     },
     "output_type": "display_data"
    }
   ],
   "source": [
    "colors = [\"#5DD9C1\",\"#F17300\",\"#E3170A\",\"#4056F4\"]\n",
    "patterns = ['/','+','o','-']\n",
    "df=pd.DataFrame(Instance_models,columns=nodes,index=[\"Ground Truth\",\"Linear Regression\", \"XGBoost\", \"Gradient Boost\"])\n",
    "df = df.T\n",
    "ax = df.plot(figsize=(5,5),kind='bar',rot=0, width=.93,color = colors,alpha=.9)\n",
    "bars = ax.patches\n",
    "hatches = ''.join(h*len(df) for h in patterns)\n",
    "for bar, hatch in zip(bars, hatches):\n",
    "    bar.set_hatch(hatch)\n",
    "ax.legend(loc='center right', bbox_to_anchor=(.9,1), ncol=2)\n",
    "\n",
    "ax.set_xlabel('#No. of source flows')\n",
    "ax.set_ylabel('No. of Instances')\n"
   ]
  },
  {
   "cell_type": "code",
   "execution_count": 27,
   "metadata": {},
   "outputs": [
    {
     "data": {
      "text/plain": [
       "<matplotlib.legend.Legend at 0x11843d750>"
      ]
     },
     "execution_count": 27,
     "metadata": {},
     "output_type": "execute_result"
    },
    {
     "data": {
      "image/png": "[encoded data removed]",
      "text/plain": [
       "<Figure size 360x360 with 1 Axes>"
      ]
     },
     "metadata": {
      "needs_background": "light"
     },
     "output_type": "display_data"
    }
   ],
   "source": [
    "index=[\"Ground Truth\",\"Linear Regression\", \"XGBoost\", \"Gradient Boost\"]\n",
    "df=pd.DataFrame(End_delays,columns=nodes,index=index)\n",
    "df = df.T\n",
    "plt.figure(figsize=(5,5))\n",
    "sns.lineplot(data = df,linewidth=2.5)\n",
    "\n",
    "#for col in index:\n",
    "    #sns.kdeplot(df[col],shade= True)\n",
    "\n",
    "plt.xlabel('#No. of source flows')\n",
    "plt.ylabel('End to End delay')\n",
    "plt.legend()"
   ]
  },
  {
   "cell_type": "code",
   "execution_count": 28,
   "metadata": {},
   "outputs": [
    {
     "data": {
      "text/plain": [
       "Text(0, 0.5, 'Runtime (ms)')"
      ]
     },
     "execution_count": 28,
     "metadata": {},
     "output_type": "execute_result"
    },
    {
     "data": {
      "image/png": "[encoded data removed]",
      "text/plain": [
       "<Figure size 360x360 with 1 Axes>"
      ]
     },
     "metadata": {
      "needs_background": "light"
     },
     "output_type": "display_data"
    }
   ],
   "source": [
    "df=pd.DataFrame(runTimes,index=[\"Ground Truth\",\"Linear Regression\", \"XGBoost\",\"Gradient Boost\"])\n",
    "df = df.T\n",
    "ax= df.plot(figsize=(5,5),kind='box',rot=0)\n",
    "plt.ylabel('Runtime (ms)')\n",
    "\n"
   ]
  },
  {
   "cell_type": "markdown",
   "metadata": {},
   "source": [
    "## Visualization\n",
    "##### Some nice plots"
   ]
  },
  {
   "cell_type": "code",
   "execution_count": 11,
   "metadata": {},
   "outputs": [
    {
     "ename": "NameError",
     "evalue": "name 'dataRate' is not defined",
     "output_type": "error",
     "traceback": [
      "\u001b[0;31m---------------------------------------------------------------------------\u001b[0m",
      "\u001b[0;31mNameError\u001b[0m                                 Traceback (most recent call last)",
      "\u001b[0;32m<ipython-input-11-95cede17cfd0>\u001b[0m in \u001b[0;36m<module>\u001b[0;34m\u001b[0m\n\u001b[1;32m      2\u001b[0m \u001b[0mfig\u001b[0m \u001b[0;34m=\u001b[0m \u001b[0mplt\u001b[0m\u001b[0;34m.\u001b[0m\u001b[0mfigure\u001b[0m\u001b[0;34m(\u001b[0m\u001b[0mfigsize\u001b[0m\u001b[0;34m=\u001b[0m\u001b[0;34m(\u001b[0m\u001b[0;36m18\u001b[0m\u001b[0;34m,\u001b[0m \u001b[0;36m18\u001b[0m\u001b[0;34m)\u001b[0m\u001b[0;34m)\u001b[0m\u001b[0;34m\u001b[0m\u001b[0;34m\u001b[0m\u001b[0m\n\u001b[1;32m      3\u001b[0m \u001b[0;34m\u001b[0m\u001b[0m\n\u001b[0;32m----> 4\u001b[0;31m \u001b[0mplt\u001b[0m\u001b[0;34m.\u001b[0m\u001b[0mplot\u001b[0m\u001b[0;34m(\u001b[0m\u001b[0mdataRate\u001b[0m\u001b[0;34m,\u001b[0m \u001b[0mlinear\u001b[0m\u001b[0;34m,\u001b[0m \u001b[0mcolor\u001b[0m\u001b[0;34m=\u001b[0m\u001b[0;34m'y'\u001b[0m\u001b[0;34m,\u001b[0m \u001b[0mmarker\u001b[0m\u001b[0;34m=\u001b[0m\u001b[0;34m\"*\"\u001b[0m\u001b[0;34m,\u001b[0m \u001b[0mmarkersize\u001b[0m\u001b[0;34m=\u001b[0m\u001b[0;36m15\u001b[0m\u001b[0;34m,\u001b[0m \u001b[0mlabel\u001b[0m\u001b[0;34m=\u001b[0m\u001b[0;34m\"Linear Regression\"\u001b[0m\u001b[0;34m)\u001b[0m\u001b[0;34m\u001b[0m\u001b[0;34m\u001b[0m\u001b[0m\n\u001b[0m\u001b[1;32m      5\u001b[0m \u001b[0mplt\u001b[0m\u001b[0;34m.\u001b[0m\u001b[0mplot\u001b[0m\u001b[0;34m(\u001b[0m\u001b[0mdataRate\u001b[0m\u001b[0;34m,\u001b[0m \u001b[0mgroundTruth\u001b[0m\u001b[0;34m,\u001b[0m \u001b[0mcolor\u001b[0m\u001b[0;34m=\u001b[0m\u001b[0;34m'orange'\u001b[0m\u001b[0;34m,\u001b[0m \u001b[0mmarker\u001b[0m\u001b[0;34m=\u001b[0m\u001b[0;34m\".\"\u001b[0m\u001b[0;34m,\u001b[0m \u001b[0mmarkersize\u001b[0m\u001b[0;34m=\u001b[0m\u001b[0;36m15\u001b[0m\u001b[0;34m,\u001b[0m \u001b[0mlabel\u001b[0m\u001b[0;34m=\u001b[0m\u001b[0;34m\"Ground Truth\"\u001b[0m\u001b[0;34m)\u001b[0m\u001b[0;34m\u001b[0m\u001b[0;34m\u001b[0m\u001b[0m\n\u001b[1;32m      6\u001b[0m \u001b[0mplt\u001b[0m\u001b[0;34m.\u001b[0m\u001b[0mplot\u001b[0m\u001b[0;34m(\u001b[0m\u001b[0mdataRate\u001b[0m\u001b[0;34m,\u001b[0m \u001b[0mxgboost\u001b[0m\u001b[0;34m,\u001b[0m \u001b[0mcolor\u001b[0m\u001b[0;34m=\u001b[0m\u001b[0;34m'b'\u001b[0m\u001b[0;34m,\u001b[0m\u001b[0mmarker\u001b[0m\u001b[0;34m=\u001b[0m\u001b[0;34m\"^\"\u001b[0m\u001b[0;34m,\u001b[0m \u001b[0mmarkersize\u001b[0m\u001b[0;34m=\u001b[0m\u001b[0;36m15\u001b[0m\u001b[0;34m,\u001b[0m \u001b[0mlabel\u001b[0m\u001b[0;34m=\u001b[0m\u001b[0;34m\"XGBoost\"\u001b[0m\u001b[0;34m)\u001b[0m\u001b[0;34m\u001b[0m\u001b[0;34m\u001b[0m\u001b[0m\n",
      "\u001b[0;31mNameError\u001b[0m: name 'dataRate' is not defined"
     ]
    },
    {
     "data": {
      "text/plain": [
       "<Figure size 1296x1296 with 0 Axes>"
      ]
     },
     "metadata": {},
     "output_type": "display_data"
    }
   ],
   "source": [
    "# data rate vs CPU\n",
    "fig = plt.figure(figsize=(18, 18))\n",
    "\n",
    "plt.plot(dataRate, linear, color='y', marker=\"*\", markersize=15, label=\"Linear Regression\")\n",
    "plt.plot(dataRate, groundTruth, color='orange', marker=\".\", markersize=15, label=\"Ground Truth\")\n",
    "plt.plot(dataRate, xgboost, color='b',marker=\"^\", markersize=15, label=\"XGBoost\")\n",
    "plt.plot(dataRate, gradient, color='r',marker=\"+\", markersize=15, label=\"Gradient Boost\")\n",
    "plt.plot(dataRate, svm, color='magenta',marker=\"p\", markersize=15, label=\"SVM\")\n",
    "\n",
    "\n",
    "\n",
    "\n",
    "\n",
    "plt.xlabel('Throughput/Data rate')\n",
    "plt.ylabel('CPU')\n",
    "plt.title('CPU prediction')\n",
    "plt.legend()\n",
    "plt.show()"
   ]
  },
  {
   "cell_type": "code",
   "execution_count": null,
   "metadata": {},
   "outputs": [],
   "source": [
    "# data rate vs CPU\n",
    "fig = plt.figure(figsize=(18, 18))\n",
    "\n",
    "plt.plot(dataRate, linear, color='y', marker=\"*\", markersize=15, label=\"Linear Regression\")\n",
    "plt.plot(dataRate, groundTruth, color='orange', marker=\".\", markersize=15, label=\"Ground Truth\")\n",
    "plt.plot(dataRate, xgboost, color='b',marker=\"^\", markersize=15, label=\"XGBoost\")\n",
    "plt.plot(dataRate, gradient, color='r',marker=\"+\", markersize=15, label=\"Gradient Boost\")\n",
    "plt.plot(dataRate, svm, color='magenta',marker=\"p\", markersize=15, label=\"SVM\")\n",
    "plt.plot(dataRate, ridge, color='violet',marker=\"P\", markersize=15, label=\"Ridge\")\n",
    "plt.plot(dataRate, randomForest, color='green',marker=\"d\", markersize=15, label=\"Random Forest\")\n",
    "\n",
    "\n",
    "plt.xlabel('Throughput/Data rate')\n",
    "plt.ylabel('CPU')\n",
    "plt.title('CPU prediction')\n",
    "plt.legend()\n",
    "plt.show()"
   ]
  },
  {
   "cell_type": "code",
   "execution_count": null,
   "metadata": {},
   "outputs": [],
   "source": []
  }
 ],
 "metadata": {
  "kernelspec": {
   "display_name": "Python 3",
   "language": "python",
   "name": "python3"
  },
  "language_info": {
   "codemirror_mode": {
    "name": "ipython",
    "version": 3
   },
   "file_extension": ".py",
   "mimetype": "text/x-python",
   "name": "python",
   "nbconvert_exporter": "python",
   "pygments_lexer": "ipython3",
   "version": "3.7.4"
  }
 },
 "nbformat": 4,
 "nbformat_minor": 2
}
