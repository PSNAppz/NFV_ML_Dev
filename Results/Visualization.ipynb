{
 "cells": [
  {
   "cell_type": "code",
   "execution_count": 19,
   "metadata": {},
   "outputs": [],
   "source": [
    "import pandas as pd\n",
    "import numpy as np\n",
    "import matplotlib.pyplot as plt\n",
    "import matplotlib as mpl\n",
    "import seaborn as sns\n",
    "import sklearn\n",
    "import yaml\n",
    "import sys\n",
    "%matplotlib inline"
   ]
  },
  {
   "cell_type": "code",
   "execution_count": 20,
   "metadata": {},
   "outputs": [
    {
     "name": "stdout",
     "output_type": "stream",
     "text": [
      "Python version: 3.7.1 (default, Dec  7 2018, 07:03:36) \n",
      "[Clang 10.0.0 (clang-1000.11.45.2)] \n",
      "\n",
      "Matplotlib version: 3.0.1\n",
      "Numpy version: 1.15.3\n",
      "Sklearn version: 0.20.0\n",
      "Seaborn version: 0.9.0\n",
      "Pandas version: 0.23.4\n"
     ]
    }
   ],
   "source": [
    "libraries = (('Matplotlib', mpl), ('Numpy', np), \n",
    "                ('Sklearn', sklearn), ('Seaborn', sns), \n",
    "            ('Pandas', pd))\n",
    "\n",
    "print(\"Python version:\", sys.version, '\\n')\n",
    "for lib in libraries:\n",
    "    print('{0} version: {1}'.format(lib[0], lib[1].__version__))"
   ]
  },
  {
   "cell_type": "code",
   "execution_count": 25,
   "metadata": {},
   "outputs": [
    {
     "name": "stdout",
     "output_type": "stream",
     "text": [
      "1\n"
     ]
    }
   ],
   "source": [
    "default = yaml.safe_load(open('Default/Abilene-fw1chain-source0-2019-08-06_13-35-55_2871.yaml'))\n",
    "groundTruth = yaml.safe_load(open('Extended/Abilene-fw1chain-source0-2019-08-03_23-58-16_8783.yaml'))\n",
    "linear = yaml.safe_load(open('Extended/Abilene-fw1chain-source0-2019-08-03_11-11-51_4748.yaml'))\n",
    "xgboost = yaml.safe_load(open('Extended/Abilene-fw1chain-source0-2019-08-03_10-51-48_8541.yaml'))\n",
    "randomForest = yaml.safe_load(open('Extended/Abilene-fw1chain-source0-2019-08-03_23-00-25_246.yaml'))\n",
    "\n",
    "print(default['placement']['alloc_node_res'][1]['cpu'])\n",
    "print(groundTruth['placement']['alloc_node_res'][1]['cpu'])\n",
    "print(linear['placement']['alloc_node_res'][1]['cpu'])\n",
    "print(xg['placement']['alloc_node_res'][1]['cpu'])\n",
    "print(default['placement']['alloc_node_res'][1]['cpu'])\n",
    "\n",
    "\n"
   ]
  },
  {
   "cell_type": "code",
   "execution_count": null,
   "metadata": {},
   "outputs": [],
   "source": []
  }
 ],
 "metadata": {
  "kernelspec": {
   "display_name": "Python 3",
   "language": "python",
   "name": "python3"
  },
  "language_info": {
   "codemirror_mode": {
    "name": "ipython",
    "version": 3
   },
   "file_extension": ".py",
   "mimetype": "text/x-python",
   "name": "python",
   "nbconvert_exporter": "python",
   "pygments_lexer": "ipython3",
   "version": "3.7.1"
  }
 },
 "nbformat": 4,
 "nbformat_minor": 2
}
