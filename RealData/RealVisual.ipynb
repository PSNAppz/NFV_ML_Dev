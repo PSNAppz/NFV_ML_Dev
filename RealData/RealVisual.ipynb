{
 "cells": [
  {
   "cell_type": "code",
   "execution_count": 8,
   "metadata": {},
   "outputs": [],
   "source": [
    "#!/usr/bin/env python\n",
    "# coding: utf-8\n",
    "\n",
    "# In[105]:\n",
    "import os\n",
    "import pandas as pd\n",
    "import matplotlib.pyplot as plt\n",
    "import seaborn as sns\n",
    "from sklearn.preprocessing import LabelEncoder, StandardScaler, PolynomialFeatures\n",
    "from sklearn.model_selection import train_test_split\n",
    "from sklearn.metrics import r2_score, mean_squared_error\n",
    "from sklearn.preprocessing import MinMaxScaler\n"
   ]
  },
  {
   "cell_type": "code",
   "execution_count": 9,
   "metadata": {},
   "outputs": [],
   "source": [
    "# In[106]:\n",
    "# Load data from path\n",
    "df01 = pd.read_csv(\"csv_experiments_WEB1.csv\")\n",
    "df02 = pd.read_csv(\"csv_experiments_WEB2.csv\")\n",
    "df03 = pd.read_csv(\"csv_experiments_WEB3.csv\")\n",
    "#df = pd.read_csv(\"RealData.csv\")\n",
    "# do renaming and selection\n",
    "mapping01 = {\n",
    "    \"param__func__mp.input__cmd_start\": \"size\",\n",
    "    \"param__func__de.upb.lb-nginx.0.1__cpu_bw\": \"CPU\",\n",
    "    \"metric__mp.input.vdu01.0__ab_transfer_rate_kbyte_per_second\": \"throughput\",\n",
    "}\n",
    "\n",
    "mapping02 = {\n",
    "    \"param__func__mp.input__cmd_start\": \"size\",\n",
    "    \"param__func__de.upb.lb-haproxy.0.1__cpu_bw\": \"CPU\",\n",
    "    \"metric__mp.input.vdu01.0__ab_transfer_rate_kbyte_per_second\": \"throughput\",\n",
    "}\n",
    "\n",
    "mapping03 = {\n",
    "    \"param__func__mp.input__cmd_start\": \"size\",\n",
    "    \"param__func__de.upb.px-squid.0.1__cpu_bw\": \"CPU\",\n",
    "    \"metric__mp.input.vdu01.0__ab_transfer_rate_kbyte_per_second\": \"throughput\",\n",
    "}\n",
    "\n",
    "\n"
   ]
  },
  {
   "cell_type": "code",
   "execution_count": 10,
   "metadata": {},
   "outputs": [],
   "source": [
    "def select_and_rename(df, mapping):\n",
    "    \"\"\"\n",
    "    Helper: Selects columns of df using the keys\n",
    "    of the mapping dict.\n",
    "    It renames the columns to the values of the\n",
    "    mappings dict.\n",
    "    \"\"\"\n",
    "    # select subset of columns\n",
    "    dff = df[list(mapping.keys())]\n",
    "    # rename \n",
    "    for k, v in mapping.items():\n",
    "        dff.rename(columns={k: v}, inplace=True)\n",
    "    return dff"
   ]
  },
  {
   "cell_type": "code",
   "execution_count": 11,
   "metadata": {},
   "outputs": [],
   "source": [
    "def sepBySize(df):\n",
    "    df[\"size\"] = df[\"size\"].str.replace(\"ab -c 1 -t 60 -n 99999999 -e /tngbench_share/ab_dist.csv -s 60 -k -i http://20.0.0.254:8888/\", \"small\")\n",
    "    df[\"size\"] = df[\"size\"].str.replace(\"ab -c 1 -t 60 -n 99999999 -e /tngbench_share/ab_dist.csv -s 60 -k http://20.0.0.254:8888/bunny.mp4\", \"big\")\n",
    "    df[\"size\"] = df[\"size\"].str.replace(\"ab -c 1 -t 60 -n 99999999 -e /tngbench_share/ab_dist.csv -s 60 -k -i -X 20.0.0.254:3128 http://40.0.0.254:80/\", \"small\")\n",
    "    df[\"size\"] = df[\"size\"].str.replace(\"ab -c 1 -t 60 -n 99999999 -e /tngbench_share/ab_dist.csv -s 60 -k -X 20.0.0.254:3128 http://40.0.0.254:80/bunny.mp4\", \"big\")\n",
    "    return df\n"
   ]
  },
  {
   "cell_type": "code",
   "execution_count": 12,
   "metadata": {},
   "outputs": [],
   "source": [
    "def showAndSave(df, size, name):\n",
    "    print(\"NFV Data Visualization\")\n",
    "    data = []\n",
    "    y = df['throughput']\n",
    "    X = df[['CPU']]\n",
    "    print(df.head())\n",
    "    print(\"Info\")\n",
    "    print(df.info())\n",
    "    print(\"Describe\")\n",
    "    print(df.describe())\n",
    "    # Plotting\n",
    "    fig = plt.figure(figsize=(10, 10))\n",
    "    plt.scatter(X,y)\n",
    "    plt.show()\n",
    "    df = df.drop(['size','vnf'],axis=1)\n",
    "    data += df.values.tolist()\n",
    "    df = pd.DataFrame(data, columns=['CPU','throughput'])\n",
    "    df.to_csv(\"RealData_\"+name+\"_\"+size+\".csv\", sep=',')"
   ]
  },
  {
   "cell_type": "code",
   "execution_count": 13,
   "metadata": {},
   "outputs": [],
   "source": [
    "df01 = select_and_rename(df01, mapping01)\n",
    "df02 = select_and_rename(df02, mapping02)\n",
    "df03 = select_and_rename(df03, mapping03)\n",
    "df01[\"vnf\"] = \"nginx\"\n",
    "df02[\"vnf\"] = \"haproxy\"\n",
    "df03[\"vnf\"] = \"squid\"\n",
    "\n",
    "#df_list = [df01, df02, df03]\n",
    "\n",
    "df01 = sepBySize(df01)\n",
    "df02 = sepBySize(df02)\n",
    "df03 = sepBySize(df03)\n",
    "\n",
    "\n",
    "df1_small = df01.loc[df01[\"size\"] == \"small\"]\n",
    "df1_big = df01.loc[df01[\"size\"] == \"big\"]\n",
    "\n",
    "df2_small = df02.loc[df02[\"size\"] == \"small\"]\n",
    "df2_big = df02.loc[df02[\"size\"] == \"big\"]\n",
    "\n",
    "df3_small = df03.loc[df03[\"size\"] == \"small\"]\n",
    "df3_big = df03.loc[df03[\"size\"] == \"big\"]\n",
    "#print(df['size'],df['MEM'],df['throughput'],df['CPU'])\n"
   ]
  },
  {
   "cell_type": "code",
   "execution_count": 14,
   "metadata": {},
   "outputs": [
    {
     "name": "stdout",
     "output_type": "stream",
     "text": [
      "NFV Data Visualization\n",
      "    size  CPU  throughput    vnf\n",
      "0  small  0.1      517.21  nginx\n",
      "1  small  0.1      521.33  nginx\n",
      "2  small  0.1      510.55  nginx\n",
      "3  small  0.1      512.59  nginx\n",
      "4  small  0.1      494.36  nginx\n",
      "Info\n",
      "<class 'pandas.core.frame.DataFrame'>\n",
      "Int64Index: 800 entries, 0 to 1579\n",
      "Data columns (total 4 columns):\n",
      "size          800 non-null object\n",
      "CPU           800 non-null float64\n",
      "throughput    799 non-null float64\n",
      "vnf           800 non-null object\n",
      "dtypes: float64(2), object(2)\n",
      "memory usage: 31.2+ KB\n",
      "None\n",
      "Describe\n",
      "              CPU   throughput\n",
      "count  800.000000   799.000000\n",
      "mean     0.550000  1872.977497\n",
      "std      0.287408   582.130701\n",
      "min      0.100000   493.600000\n",
      "25%      0.300000  1646.180000\n",
      "50%      0.550000  2198.900000\n",
      "75%      0.800000  2228.005000\n",
      "max      1.000000  2292.680000\n"
     ]
    },
    {
     "data": {
      "image/png": "[encoded data removed]",
      "text/plain": [
       "<Figure size 720x720 with 1 Axes>"
      ]
     },
     "metadata": {
      "needs_background": "light"
     },
     "output_type": "display_data"
    },
    {
     "name": "stdout",
     "output_type": "stream",
     "text": [
      "NFV Data Visualization\n",
      "   size  CPU  throughput    vnf\n",
      "20  big  0.1   114785.85  nginx\n",
      "21  big  0.1   116672.10  nginx\n",
      "22  big  0.1   112345.48  nginx\n",
      "23  big  0.1   115348.88  nginx\n",
      "24  big  0.1   113557.63  nginx\n",
      "Info\n",
      "<class 'pandas.core.frame.DataFrame'>\n",
      "Int64Index: 800 entries, 20 to 1599\n",
      "Data columns (total 4 columns):\n",
      "size          800 non-null object\n",
      "CPU           800 non-null float64\n",
      "throughput    799 non-null float64\n",
      "vnf           800 non-null object\n",
      "dtypes: float64(2), object(2)\n",
      "memory usage: 31.2+ KB\n",
      "None\n",
      "Describe\n",
      "              CPU    throughput\n",
      "count  800.000000  7.990000e+02\n",
      "mean     0.550000  8.435743e+05\n",
      "std      0.287408  4.682032e+05\n",
      "min      0.100000  1.103421e+05\n",
      "25%      0.300000  4.344270e+05\n",
      "50%      0.550000  9.052645e+05\n",
      "75%      0.800000  1.243057e+06\n",
      "max      1.000000  1.598779e+06\n"
     ]
    },
    {
     "data": {
      "image/png": "[encoded data removed]",
      "text/plain": [
       "<Figure size 720x720 with 1 Axes>"
      ]
     },
     "metadata": {
      "needs_background": "light"
     },
     "output_type": "display_data"
    },
    {
     "name": "stdout",
     "output_type": "stream",
     "text": [
      "NFV Data Visualization\n",
      "    size  CPU  throughput      vnf\n",
      "0  small  0.1      132.54  haproxy\n",
      "1  small  0.1      133.82  haproxy\n",
      "2  small  0.1      134.81  haproxy\n",
      "3  small  0.1      133.44  haproxy\n",
      "4  small  0.1      132.43  haproxy\n",
      "Info\n",
      "<class 'pandas.core.frame.DataFrame'>\n",
      "Int64Index: 800 entries, 0 to 1579\n",
      "Data columns (total 4 columns):\n",
      "size          800 non-null object\n",
      "CPU           800 non-null float64\n",
      "throughput    800 non-null float64\n",
      "vnf           800 non-null object\n",
      "dtypes: float64(2), object(2)\n",
      "memory usage: 31.2+ KB\n",
      "None\n",
      "Describe\n",
      "              CPU   throughput\n",
      "count  800.000000   800.000000\n",
      "mean     0.550000  1035.247712\n",
      "std      0.287408   509.110544\n",
      "min      0.100000   132.430000\n",
      "25%      0.300000   528.800000\n",
      "50%      0.550000  1356.815000\n",
      "75%      0.800000  1468.805000\n",
      "max      1.000000  1496.920000\n"
     ]
    },
    {
     "data": {
      "image/png": "[encoded data removed]",
      "text/plain": [
       "<Figure size 720x720 with 1 Axes>"
      ]
     },
     "metadata": {
      "needs_background": "light"
     },
     "output_type": "display_data"
    },
    {
     "name": "stdout",
     "output_type": "stream",
     "text": [
      "NFV Data Visualization\n",
      "   size  CPU  throughput      vnf\n",
      "20  big  0.1    49192.75  haproxy\n",
      "21  big  0.1    50082.85  haproxy\n",
      "22  big  0.1    49936.27  haproxy\n",
      "23  big  0.1    49879.74  haproxy\n",
      "24  big  0.1    47800.17  haproxy\n",
      "Info\n",
      "<class 'pandas.core.frame.DataFrame'>\n",
      "Int64Index: 800 entries, 20 to 1599\n",
      "Data columns (total 4 columns):\n",
      "size          800 non-null object\n",
      "CPU           800 non-null float64\n",
      "throughput    800 non-null float64\n",
      "vnf           800 non-null object\n",
      "dtypes: float64(2), object(2)\n",
      "memory usage: 31.2+ KB\n",
      "None\n",
      "Describe\n",
      "              CPU     throughput\n",
      "count  800.000000     800.000000\n",
      "mean     0.550000  391121.643500\n",
      "std      0.287408  223930.035609\n",
      "min      0.100000   47112.290000\n",
      "25%      0.300000  202593.722500\n",
      "50%      0.550000  367637.085000\n",
      "75%      0.800000  581665.452500\n",
      "max      1.000000  786490.510000\n"
     ]
    },
    {
     "data": {
      "image/png": "[encoded data removed]",
      "text/plain": [
       "<Figure size 720x720 with 1 Axes>"
      ]
     },
     "metadata": {
      "needs_background": "light"
     },
     "output_type": "display_data"
    },
    {
     "name": "stdout",
     "output_type": "stream",
     "text": [
      "NFV Data Visualization\n",
      "    size  CPU  throughput    vnf\n",
      "0  small  0.1      248.58  squid\n",
      "1  small  0.1      239.79  squid\n",
      "2  small  0.1      243.37  squid\n",
      "3  small  0.1      246.51  squid\n",
      "4  small  0.1      243.09  squid\n",
      "Info\n",
      "<class 'pandas.core.frame.DataFrame'>\n",
      "Int64Index: 800 entries, 0 to 1579\n",
      "Data columns (total 4 columns):\n",
      "size          800 non-null object\n",
      "CPU           800 non-null float64\n",
      "throughput    800 non-null float64\n",
      "vnf           800 non-null object\n",
      "dtypes: float64(2), object(2)\n",
      "memory usage: 31.2+ KB\n",
      "None\n",
      "Describe\n",
      "              CPU   throughput\n",
      "count  800.000000   800.000000\n",
      "mean     0.550000  1488.690800\n",
      "std      0.287408   672.077677\n",
      "min      0.100000   239.790000\n",
      "25%      0.300000   910.892500\n",
      "50%      0.550000  1719.285000\n",
      "75%      0.800000  2108.045000\n",
      "max      1.000000  2193.520000\n"
     ]
    },
    {
     "data": {
      "image/png": "[encoded data removed]",
      "text/plain": [
       "<Figure size 720x720 with 1 Axes>"
      ]
     },
     "metadata": {
      "needs_background": "light"
     },
     "output_type": "display_data"
    },
    {
     "name": "stdout",
     "output_type": "stream",
     "text": [
      "NFV Data Visualization\n",
      "   size  CPU  throughput    vnf\n",
      "20  big  0.1    30145.82  squid\n",
      "21  big  0.1    30138.07  squid\n",
      "22  big  0.1    31626.74  squid\n",
      "23  big  0.1    30526.84  squid\n",
      "24  big  0.1    30213.15  squid\n",
      "Info\n",
      "<class 'pandas.core.frame.DataFrame'>\n",
      "Int64Index: 800 entries, 20 to 1599\n",
      "Data columns (total 4 columns):\n",
      "size          800 non-null object\n",
      "CPU           800 non-null float64\n",
      "throughput    800 non-null float64\n",
      "vnf           800 non-null object\n",
      "dtypes: float64(2), object(2)\n",
      "memory usage: 31.2+ KB\n",
      "None\n",
      "Describe\n",
      "              CPU     throughput\n",
      "count  800.000000     800.000000\n",
      "mean     0.550000  221051.328575\n",
      "std      0.287408  122821.627261\n",
      "min      0.100000   29729.520000\n",
      "25%      0.300000  114481.537500\n",
      "50%      0.550000  220024.750000\n",
      "75%      0.800000  326010.985000\n",
      "max      1.000000  427890.370000\n"
     ]
    },
    {
     "data": {
      "image/png": "[encoded data removed]",
      "text/plain": [
       "<Figure size 720x720 with 1 Axes>"
      ]
     },
     "metadata": {
      "needs_background": "light"
     },
     "output_type": "display_data"
    }
   ],
   "source": [
    "showAndSave(df1_small, \"small\", \"nginx\")\n",
    "showAndSave(df1_big, \"big\", \"nginx\")\n",
    "\n",
    "showAndSave(df2_small, \"small\", \"haproxy\")\n",
    "showAndSave(df2_big, \"big\", \"haproxy\")\n",
    "\n",
    "showAndSave(df3_small, \"small\", \"squid\")\n",
    "showAndSave(df3_big, \"big\", \"squid\")"
   ]
  },
  {
   "cell_type": "code",
   "execution_count": null,
   "metadata": {},
   "outputs": [],
   "source": []
  }
 ],
 "metadata": {
  "kernelspec": {
   "display_name": "Python 3",
   "language": "python",
   "name": "python3"
  },
  "language_info": {
   "codemirror_mode": {
    "name": "ipython",
    "version": 3
   },
   "file_extension": ".py",
   "mimetype": "text/x-python",
   "name": "python",
   "nbconvert_exporter": "python",
   "pygments_lexer": "ipython3",
   "version": "3.7.4"
  }
 },
 "nbformat": 4,
 "nbformat_minor": 2
}
