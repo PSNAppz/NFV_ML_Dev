{
 "cells": [
  {
   "cell_type": "code",
   "execution_count": 2,
   "metadata": {},
   "outputs": [],
   "source": [
    "import numpy as np\n",
    "import matplotlib.pyplot as plt\n",
    "import pandas as pd\n",
    "import xgboost as xgb\n",
    "from sklearn.model_selection import GridSearchCV,KFold\n",
    "from sklearn.preprocessing import MinMaxScaler\n",
    "from sklearn import metrics\n",
    "import seaborn as sns\n",
    "import pickle\n",
    "from xgboost import plot_tree\n"
   ]
  },
  {
   "cell_type": "code",
   "execution_count": 3,
   "metadata": {},
   "outputs": [],
   "source": [
    "# #############################################################################\n",
    "# Load data\n",
    "#data = pd.read_csv('../../SynData/data/GeneratedData.csv')\n",
    "data = pd.read_csv('../../RealData/RealData_Small.csv')\n"
   ]
  },
  {
   "cell_type": "code",
   "execution_count": 4,
   "metadata": {},
   "outputs": [
    {
     "data": {
      "image/png": "[encoded data removed]",
      "text/plain": [
       "<Figure size 1440x1440 with 1 Axes>"
      ]
     },
     "metadata": {
      "needs_background": "light"
     },
     "output_type": "display_data"
    }
   ],
   "source": [
    "# #############################################################################\n",
    "# Training and Testing Data\n",
    "X = data[['throughput']]\n",
    "y = data['CPU']\n",
    "\n",
    "\n",
    "X = X.fillna(X.mean())\n",
    "scaler = MinMaxScaler(feature_range=(0, 1))\n",
    "X = scaler.fit_transform(X)\n",
    "\n",
    "\n",
    "fig = plt.figure(figsize=(20, 20))\n",
    "plt.scatter(X,y)\n",
    "plt.show()\n",
    "    \n",
    "\n",
    "n = len(X)\n",
    "kf = KFold(n_splits=5)\n",
    "fold = 0\n",
    "for train_index, test_index in kf.split(X):\n",
    "    fold += 1\n",
    "    X_train, X_test = X[train_index], X[test_index]\n",
    "    y_train, y_test = y[train_index], y[test_index]"
   ]
  },
  {
   "cell_type": "code",
   "execution_count": 5,
   "metadata": {},
   "outputs": [
    {
     "name": "stdout",
     "output_type": "stream",
     "text": [
      "Fitting 3 folds for each of 20 candidates, totalling 60 fits\n"
     ]
    },
    {
     "name": "stderr",
     "output_type": "stream",
     "text": [
      "/usr/local/lib/python3.7/site-packages/sklearn/model_selection/_split.py:1943: FutureWarning: You should specify a value for 'cv' instead of relying on the default value. The default value will change from 3 to 5 in version 0.22.\n",
      "  warnings.warn(CV_WARNING, FutureWarning)\n",
      "[Parallel(n_jobs=-1)]: Using backend LokyBackend with 8 concurrent workers.\n"
     ]
    },
    {
     "name": "stdout",
     "output_type": "stream",
     "text": [
      "-4.025132343771534\n",
      "{'max_depth': 8, 'n_estimators': 100}\n"
     ]
    },
    {
     "name": "stderr",
     "output_type": "stream",
     "text": [
      "[Parallel(n_jobs=-1)]: Done  34 tasks      | elapsed:    1.6s\n",
      "[Parallel(n_jobs=-1)]: Done  45 out of  60 | elapsed:    1.6s remaining:    0.5s\n",
      "[Parallel(n_jobs=-1)]: Done  60 out of  60 | elapsed:    1.6s finished\n",
      "/usr/local/lib/python3.7/site-packages/sklearn/model_selection/_search.py:841: DeprecationWarning: The default of the `iid` parameter will change from True to False in version 0.22 and will be removed in 0.24. This will change numeric results when test-set sizes are unequal.\n",
      "  DeprecationWarning)\n"
     ]
    }
   ],
   "source": [
    "# #############################################################################\n",
    "# Fit XGB regression model\n",
    "xgb_model = xgb.XGBRegressor()\n",
    "clf = GridSearchCV(xgb_model, {'max_depth': [1, 2, 4, 6, 8], 'n_estimators': [ 50, 100, 110, 200]}, verbose=1, n_jobs=-1)\n",
    "clf.fit(X_train, y_train)\n",
    "print(clf.best_score_)\n",
    "print(clf.best_params_)"
   ]
  },
  {
   "cell_type": "code",
   "execution_count": 6,
   "metadata": {},
   "outputs": [
    {
     "data": {
      "text/html": [
       "<div>\n",
       "<style scoped>\n",
       "    .dataframe tbody tr th:only-of-type {\n",
       "        vertical-align: middle;\n",
       "    }\n",
       "\n",
       "    .dataframe tbody tr th {\n",
       "        vertical-align: top;\n",
       "    }\n",
       "\n",
       "    .dataframe thead th {\n",
       "        text-align: right;\n",
       "    }\n",
       "</style>\n",
       "<table border=\"1\" class=\"dataframe\">\n",
       "  <thead>\n",
       "    <tr style=\"text-align: right;\">\n",
       "      <th></th>\n",
       "      <th>Throuput</th>\n",
       "      <th>Actual</th>\n",
       "      <th>Predicted</th>\n",
       "    </tr>\n",
       "  </thead>\n",
       "  <tbody>\n",
       "    <tr>\n",
       "      <th>0</th>\n",
       "      <td>0.958580</td>\n",
       "      <td>0.9</td>\n",
       "      <td>0.612524</td>\n",
       "    </tr>\n",
       "    <tr>\n",
       "      <th>1</th>\n",
       "      <td>0.961171</td>\n",
       "      <td>0.9</td>\n",
       "      <td>0.724165</td>\n",
       "    </tr>\n",
       "    <tr>\n",
       "      <th>2</th>\n",
       "      <td>0.952763</td>\n",
       "      <td>0.9</td>\n",
       "      <td>0.511698</td>\n",
       "    </tr>\n",
       "    <tr>\n",
       "      <th>3</th>\n",
       "      <td>0.972611</td>\n",
       "      <td>0.9</td>\n",
       "      <td>0.516984</td>\n",
       "    </tr>\n",
       "    <tr>\n",
       "      <th>4</th>\n",
       "      <td>0.956083</td>\n",
       "      <td>0.9</td>\n",
       "      <td>0.695864</td>\n",
       "    </tr>\n",
       "    <tr>\n",
       "      <th>5</th>\n",
       "      <td>0.983172</td>\n",
       "      <td>0.9</td>\n",
       "      <td>0.707056</td>\n",
       "    </tr>\n",
       "    <tr>\n",
       "      <th>6</th>\n",
       "      <td>0.971582</td>\n",
       "      <td>0.9</td>\n",
       "      <td>0.516984</td>\n",
       "    </tr>\n",
       "    <tr>\n",
       "      <th>7</th>\n",
       "      <td>0.968373</td>\n",
       "      <td>0.9</td>\n",
       "      <td>0.701370</td>\n",
       "    </tr>\n",
       "    <tr>\n",
       "      <th>8</th>\n",
       "      <td>0.949398</td>\n",
       "      <td>0.9</td>\n",
       "      <td>0.590243</td>\n",
       "    </tr>\n",
       "    <tr>\n",
       "      <th>9</th>\n",
       "      <td>0.979251</td>\n",
       "      <td>0.9</td>\n",
       "      <td>0.702394</td>\n",
       "    </tr>\n",
       "    <tr>\n",
       "      <th>10</th>\n",
       "      <td>0.979941</td>\n",
       "      <td>0.9</td>\n",
       "      <td>0.702394</td>\n",
       "    </tr>\n",
       "    <tr>\n",
       "      <th>11</th>\n",
       "      <td>0.967189</td>\n",
       "      <td>0.9</td>\n",
       "      <td>0.519014</td>\n",
       "    </tr>\n",
       "    <tr>\n",
       "      <th>12</th>\n",
       "      <td>0.974524</td>\n",
       "      <td>0.9</td>\n",
       "      <td>0.793310</td>\n",
       "    </tr>\n",
       "    <tr>\n",
       "      <th>13</th>\n",
       "      <td>0.978144</td>\n",
       "      <td>0.9</td>\n",
       "      <td>0.793310</td>\n",
       "    </tr>\n",
       "    <tr>\n",
       "      <th>14</th>\n",
       "      <td>0.977505</td>\n",
       "      <td>0.9</td>\n",
       "      <td>0.793310</td>\n",
       "    </tr>\n",
       "    <tr>\n",
       "      <th>15</th>\n",
       "      <td>0.976737</td>\n",
       "      <td>0.9</td>\n",
       "      <td>0.793310</td>\n",
       "    </tr>\n",
       "    <tr>\n",
       "      <th>16</th>\n",
       "      <td>0.975948</td>\n",
       "      <td>0.9</td>\n",
       "      <td>0.793310</td>\n",
       "    </tr>\n",
       "    <tr>\n",
       "      <th>17</th>\n",
       "      <td>0.991013</td>\n",
       "      <td>0.9</td>\n",
       "      <td>0.702140</td>\n",
       "    </tr>\n",
       "    <tr>\n",
       "      <th>18</th>\n",
       "      <td>0.967228</td>\n",
       "      <td>0.9</td>\n",
       "      <td>0.519014</td>\n",
       "    </tr>\n",
       "    <tr>\n",
       "      <th>19</th>\n",
       "      <td>0.962462</td>\n",
       "      <td>0.9</td>\n",
       "      <td>0.794893</td>\n",
       "    </tr>\n",
       "    <tr>\n",
       "      <th>20</th>\n",
       "      <td>0.980780</td>\n",
       "      <td>1.0</td>\n",
       "      <td>0.702394</td>\n",
       "    </tr>\n",
       "    <tr>\n",
       "      <th>21</th>\n",
       "      <td>0.976237</td>\n",
       "      <td>1.0</td>\n",
       "      <td>0.793310</td>\n",
       "    </tr>\n",
       "    <tr>\n",
       "      <th>22</th>\n",
       "      <td>0.764318</td>\n",
       "      <td>1.0</td>\n",
       "      <td>0.300214</td>\n",
       "    </tr>\n",
       "    <tr>\n",
       "      <th>23</th>\n",
       "      <td>0.961666</td>\n",
       "      <td>1.0</td>\n",
       "      <td>0.794893</td>\n",
       "    </tr>\n",
       "    <tr>\n",
       "      <th>24</th>\n",
       "      <td>0.952090</td>\n",
       "      <td>1.0</td>\n",
       "      <td>0.771668</td>\n",
       "    </tr>\n",
       "    <tr>\n",
       "      <th>25</th>\n",
       "      <td>0.963235</td>\n",
       "      <td>1.0</td>\n",
       "      <td>0.794893</td>\n",
       "    </tr>\n",
       "    <tr>\n",
       "      <th>26</th>\n",
       "      <td>0.986547</td>\n",
       "      <td>1.0</td>\n",
       "      <td>0.788654</td>\n",
       "    </tr>\n",
       "    <tr>\n",
       "      <th>27</th>\n",
       "      <td>0.990001</td>\n",
       "      <td>1.0</td>\n",
       "      <td>0.702140</td>\n",
       "    </tr>\n",
       "    <tr>\n",
       "      <th>28</th>\n",
       "      <td>0.959158</td>\n",
       "      <td>1.0</td>\n",
       "      <td>0.612524</td>\n",
       "    </tr>\n",
       "    <tr>\n",
       "      <th>29</th>\n",
       "      <td>0.980897</td>\n",
       "      <td>1.0</td>\n",
       "      <td>0.702394</td>\n",
       "    </tr>\n",
       "    <tr>\n",
       "      <th>30</th>\n",
       "      <td>0.980686</td>\n",
       "      <td>1.0</td>\n",
       "      <td>0.702394</td>\n",
       "    </tr>\n",
       "    <tr>\n",
       "      <th>31</th>\n",
       "      <td>1.000000</td>\n",
       "      <td>1.0</td>\n",
       "      <td>0.702140</td>\n",
       "    </tr>\n",
       "    <tr>\n",
       "      <th>32</th>\n",
       "      <td>0.961739</td>\n",
       "      <td>1.0</td>\n",
       "      <td>0.794893</td>\n",
       "    </tr>\n",
       "    <tr>\n",
       "      <th>33</th>\n",
       "      <td>0.964775</td>\n",
       "      <td>1.0</td>\n",
       "      <td>0.792326</td>\n",
       "    </tr>\n",
       "    <tr>\n",
       "      <th>34</th>\n",
       "      <td>0.954209</td>\n",
       "      <td>1.0</td>\n",
       "      <td>0.434270</td>\n",
       "    </tr>\n",
       "    <tr>\n",
       "      <th>35</th>\n",
       "      <td>0.981420</td>\n",
       "      <td>1.0</td>\n",
       "      <td>0.702394</td>\n",
       "    </tr>\n",
       "    <tr>\n",
       "      <th>36</th>\n",
       "      <td>0.975987</td>\n",
       "      <td>1.0</td>\n",
       "      <td>0.793310</td>\n",
       "    </tr>\n",
       "    <tr>\n",
       "      <th>37</th>\n",
       "      <td>0.971654</td>\n",
       "      <td>1.0</td>\n",
       "      <td>0.516984</td>\n",
       "    </tr>\n",
       "    <tr>\n",
       "      <th>38</th>\n",
       "      <td>0.963207</td>\n",
       "      <td>1.0</td>\n",
       "      <td>0.794893</td>\n",
       "    </tr>\n",
       "    <tr>\n",
       "      <th>39</th>\n",
       "      <td>0.975414</td>\n",
       "      <td>1.0</td>\n",
       "      <td>0.793310</td>\n",
       "    </tr>\n",
       "  </tbody>\n",
       "</table>\n",
       "</div>"
      ],
      "text/plain": [
       "    Throuput  Actual  Predicted\n",
       "0   0.958580     0.9   0.612524\n",
       "1   0.961171     0.9   0.724165\n",
       "2   0.952763     0.9   0.511698\n",
       "3   0.972611     0.9   0.516984\n",
       "4   0.956083     0.9   0.695864\n",
       "5   0.983172     0.9   0.707056\n",
       "6   0.971582     0.9   0.516984\n",
       "7   0.968373     0.9   0.701370\n",
       "8   0.949398     0.9   0.590243\n",
       "9   0.979251     0.9   0.702394\n",
       "10  0.979941     0.9   0.702394\n",
       "11  0.967189     0.9   0.519014\n",
       "12  0.974524     0.9   0.793310\n",
       "13  0.978144     0.9   0.793310\n",
       "14  0.977505     0.9   0.793310\n",
       "15  0.976737     0.9   0.793310\n",
       "16  0.975948     0.9   0.793310\n",
       "17  0.991013     0.9   0.702140\n",
       "18  0.967228     0.9   0.519014\n",
       "19  0.962462     0.9   0.794893\n",
       "20  0.980780     1.0   0.702394\n",
       "21  0.976237     1.0   0.793310\n",
       "22  0.764318     1.0   0.300214\n",
       "23  0.961666     1.0   0.794893\n",
       "24  0.952090     1.0   0.771668\n",
       "25  0.963235     1.0   0.794893\n",
       "26  0.986547     1.0   0.788654\n",
       "27  0.990001     1.0   0.702140\n",
       "28  0.959158     1.0   0.612524\n",
       "29  0.980897     1.0   0.702394\n",
       "30  0.980686     1.0   0.702394\n",
       "31  1.000000     1.0   0.702140\n",
       "32  0.961739     1.0   0.794893\n",
       "33  0.964775     1.0   0.792326\n",
       "34  0.954209     1.0   0.434270\n",
       "35  0.981420     1.0   0.702394\n",
       "36  0.975987     1.0   0.793310\n",
       "37  0.971654     1.0   0.516984\n",
       "38  0.963207     1.0   0.794893\n",
       "39  0.975414     1.0   0.793310"
      ]
     },
     "execution_count": 6,
     "metadata": {},
     "output_type": "execute_result"
    }
   ],
   "source": [
    "prediction = clf.predict(X_test)\n",
    "X_test = np.array(X_test)\n",
    "y_test = np.array(list(y_test))\n",
    "prediction= np.array(prediction)\n",
    "df = pd.DataFrame({'Throuput':X_test.flatten(),'Actual': y_test.flatten(), 'Predicted': prediction.flatten()})\n",
    "df"
   ]
  },
  {
   "cell_type": "code",
   "execution_count": 17,
   "metadata": {},
   "outputs": [
    {
     "data": {
      "text/plain": [
       "Text(0, 0.5, 'Predicted Y')"
      ]
     },
     "execution_count": 17,
     "metadata": {},
     "output_type": "execute_result"
    },
    {
     "data": {
      "image/png": "[encoded data removed]",
      "text/plain": [
       "<Figure size 432x288 with 1 Axes>"
      ]
     },
     "metadata": {},
     "output_type": "display_data"
    }
   ],
   "source": [
    "#Plot prediction\n",
    "plt.scatter(X_test, y_test,  color='gray')\n",
    "plt.plot(X_test, prediction, color='red', linewidth=1)\n",
    "plt.xlabel(\"Y test\")\n",
    "plt.ylabel(\"Predicted Y\")\n",
    "\n",
    "\n",
    "#sns.set(style=\"whitegrid\")\n",
    "\n",
    "# Plot the residuals after fitting a linear model\n",
    "#sns.residplot(X_test.flatten(), y_test, lowess=True, color=\"g\")"
   ]
  },
  {
   "cell_type": "code",
   "execution_count": null,
   "metadata": {},
   "outputs": [],
   "source": [
    "#Model Evaluation\n",
    "print('MAE:', metrics.mean_absolute_error(y_test, prediction))\n",
    "print('MSE:', metrics.mean_squared_error(y_test, prediction))\n",
    "print('RMSE:', np.sqrt(metrics.mean_squared_error(y_test, prediction)))\n",
    "\n"
   ]
  },
  {
   "cell_type": "code",
   "execution_count": 8,
   "metadata": {},
   "outputs": [],
   "source": [
    "# save the model to disk\n",
    "filename = '../models/XGB_model_realData.sav'\n",
    "pickle.dump(clf, open(filename, 'wb'))"
   ]
  },
  {
   "cell_type": "code",
   "execution_count": 9,
   "metadata": {},
   "outputs": [
    {
     "name": "stdout",
     "output_type": "stream",
     "text": [
      "[[-0.26880404]]\n"
     ]
    }
   ],
   "source": [
    "data = scaler.transform(np.float32([[10]])) \n",
    "print(data)"
   ]
  },
  {
   "cell_type": "code",
   "execution_count": 10,
   "metadata": {},
   "outputs": [
    {
     "data": {
      "text/plain": [
       "array([0.7767379], dtype=float32)"
      ]
     },
     "execution_count": 10,
     "metadata": {},
     "output_type": "execute_result"
    }
   ],
   "source": [
    "clf.predict([[0.987044]])"
   ]
  },
  {
   "cell_type": "code",
   "execution_count": null,
   "metadata": {},
   "outputs": [],
   "source": []
  }
 ],
 "metadata": {
  "kernelspec": {
   "display_name": "Python 3",
   "language": "python",
   "name": "python3"
  },
  "language_info": {
   "codemirror_mode": {
    "name": "ipython",
    "version": 3
   },
   "file_extension": ".py",
   "mimetype": "text/x-python",
   "name": "python",
   "nbconvert_exporter": "python",
   "pygments_lexer": "ipython3",
   "version": "3.7.1"
  }
 },
 "nbformat": 4,
 "nbformat_minor": 2
}
