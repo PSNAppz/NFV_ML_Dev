{
 "cells": [
  {
   "cell_type": "code",
   "execution_count": 1,
   "metadata": {},
   "outputs": [],
   "source": [
    "import pandas as pd\n",
    "import numpy as np\n",
    "import matplotlib.pyplot as plt\n",
    "import seaborn as sns\n",
    "from sklearn.model_selection import KFold\n",
    "from sklearn.model_selection import cross_val_score, GridSearchCV\n",
    "from sklearn.ensemble import RandomForestRegressor\n",
    "from sklearn.preprocessing import MinMaxScaler\n",
    "from sklearn import metrics\n",
    "import pickle\n",
    "%matplotlib inline"
   ]
  },
  {
   "cell_type": "code",
   "execution_count": 2,
   "metadata": {},
   "outputs": [],
   "source": [
    "#Read Data\n",
    "data = pd.read_csv('../../SynData/data/GeneratedData.csv')\n"
   ]
  },
  {
   "cell_type": "code",
   "execution_count": 3,
   "metadata": {},
   "outputs": [
    {
     "data": {
      "text/html": [
       "<div>\n",
       "<style scoped>\n",
       "    .dataframe tbody tr th:only-of-type {\n",
       "        vertical-align: middle;\n",
       "    }\n",
       "\n",
       "    .dataframe tbody tr th {\n",
       "        vertical-align: top;\n",
       "    }\n",
       "\n",
       "    .dataframe thead th {\n",
       "        text-align: right;\n",
       "    }\n",
       "</style>\n",
       "<table border=\"1\" class=\"dataframe\">\n",
       "  <thead>\n",
       "    <tr style=\"text-align: right;\">\n",
       "      <th></th>\n",
       "      <th>Unnamed: 0</th>\n",
       "      <th>CPU</th>\n",
       "      <th>throughput</th>\n",
       "    </tr>\n",
       "  </thead>\n",
       "  <tbody>\n",
       "    <tr>\n",
       "      <th>0</th>\n",
       "      <td>0</td>\n",
       "      <td>0.354441</td>\n",
       "      <td>30.338909</td>\n",
       "    </tr>\n",
       "    <tr>\n",
       "      <th>1</th>\n",
       "      <td>1</td>\n",
       "      <td>0.493504</td>\n",
       "      <td>40.112504</td>\n",
       "    </tr>\n",
       "    <tr>\n",
       "      <th>2</th>\n",
       "      <td>2</td>\n",
       "      <td>0.961547</td>\n",
       "      <td>67.373333</td>\n",
       "    </tr>\n",
       "    <tr>\n",
       "      <th>3</th>\n",
       "      <td>3</td>\n",
       "      <td>0.758908</td>\n",
       "      <td>56.469337</td>\n",
       "    </tr>\n",
       "    <tr>\n",
       "      <th>4</th>\n",
       "      <td>4</td>\n",
       "      <td>0.347401</td>\n",
       "      <td>29.817774</td>\n",
       "    </tr>\n",
       "  </tbody>\n",
       "</table>\n",
       "</div>"
      ],
      "text/plain": [
       "   Unnamed: 0       CPU  throughput\n",
       "0           0  0.354441   30.338909\n",
       "1           1  0.493504   40.112504\n",
       "2           2  0.961547   67.373333\n",
       "3           3  0.758908   56.469337\n",
       "4           4  0.347401   29.817774"
      ]
     },
     "execution_count": 3,
     "metadata": {},
     "output_type": "execute_result"
    }
   ],
   "source": [
    "#General data info\n",
    "data.head()"
   ]
  },
  {
   "cell_type": "code",
   "execution_count": 4,
   "metadata": {},
   "outputs": [
    {
     "data": {
      "text/html": [
       "<div>\n",
       "<style scoped>\n",
       "    .dataframe tbody tr th:only-of-type {\n",
       "        vertical-align: middle;\n",
       "    }\n",
       "\n",
       "    .dataframe tbody tr th {\n",
       "        vertical-align: top;\n",
       "    }\n",
       "\n",
       "    .dataframe thead th {\n",
       "        text-align: right;\n",
       "    }\n",
       "</style>\n",
       "<table border=\"1\" class=\"dataframe\">\n",
       "  <thead>\n",
       "    <tr style=\"text-align: right;\">\n",
       "      <th></th>\n",
       "      <th>Unnamed: 0</th>\n",
       "      <th>CPU</th>\n",
       "      <th>throughput</th>\n",
       "    </tr>\n",
       "  </thead>\n",
       "  <tbody>\n",
       "    <tr>\n",
       "      <th>count</th>\n",
       "      <td>300.000000</td>\n",
       "      <td>300.000000</td>\n",
       "      <td>300.000000</td>\n",
       "    </tr>\n",
       "    <tr>\n",
       "      <th>mean</th>\n",
       "      <td>149.500000</td>\n",
       "      <td>0.541960</td>\n",
       "      <td>41.353903</td>\n",
       "    </tr>\n",
       "    <tr>\n",
       "      <th>std</th>\n",
       "      <td>86.746758</td>\n",
       "      <td>0.295906</td>\n",
       "      <td>20.116394</td>\n",
       "    </tr>\n",
       "    <tr>\n",
       "      <th>min</th>\n",
       "      <td>0.000000</td>\n",
       "      <td>0.000412</td>\n",
       "      <td>0.041189</td>\n",
       "    </tr>\n",
       "    <tr>\n",
       "      <th>25%</th>\n",
       "      <td>74.750000</td>\n",
       "      <td>0.285819</td>\n",
       "      <td>25.139570</td>\n",
       "    </tr>\n",
       "    <tr>\n",
       "      <th>50%</th>\n",
       "      <td>149.500000</td>\n",
       "      <td>0.578239</td>\n",
       "      <td>45.630774</td>\n",
       "    </tr>\n",
       "    <tr>\n",
       "      <th>75%</th>\n",
       "      <td>224.250000</td>\n",
       "      <td>0.786403</td>\n",
       "      <td>58.020421</td>\n",
       "    </tr>\n",
       "    <tr>\n",
       "      <th>max</th>\n",
       "      <td>299.000000</td>\n",
       "      <td>0.998286</td>\n",
       "      <td>69.228988</td>\n",
       "    </tr>\n",
       "  </tbody>\n",
       "</table>\n",
       "</div>"
      ],
      "text/plain": [
       "       Unnamed: 0         CPU  throughput\n",
       "count  300.000000  300.000000  300.000000\n",
       "mean   149.500000    0.541960   41.353903\n",
       "std     86.746758    0.295906   20.116394\n",
       "min      0.000000    0.000412    0.041189\n",
       "25%     74.750000    0.285819   25.139570\n",
       "50%    149.500000    0.578239   45.630774\n",
       "75%    224.250000    0.786403   58.020421\n",
       "max    299.000000    0.998286   69.228988"
      ]
     },
     "execution_count": 4,
     "metadata": {},
     "output_type": "execute_result"
    }
   ],
   "source": [
    "data.describe()"
   ]
  },
  {
   "cell_type": "code",
   "execution_count": 5,
   "metadata": {},
   "outputs": [
    {
     "name": "stdout",
     "output_type": "stream",
     "text": [
      "<class 'pandas.core.frame.DataFrame'>\n",
      "RangeIndex: 300 entries, 0 to 299\n",
      "Data columns (total 3 columns):\n",
      "Unnamed: 0    300 non-null int64\n",
      "CPU           300 non-null float64\n",
      "throughput    300 non-null float64\n",
      "dtypes: float64(2), int64(1)\n",
      "memory usage: 7.1 KB\n"
     ]
    }
   ],
   "source": [
    "data.info()"
   ]
  },
  {
   "cell_type": "code",
   "execution_count": 6,
   "metadata": {
    "scrolled": true
   },
   "outputs": [
    {
     "name": "stderr",
     "output_type": "stream",
     "text": [
      "/usr/local/lib/python3.7/site-packages/scipy/stats/stats.py:1713: FutureWarning: Using a non-tuple sequence for multidimensional indexing is deprecated; use `arr[tuple(seq)]` instead of `arr[seq]`. In the future this will be interpreted as an array index, `arr[np.array(seq)]`, which will result either in an error or a different result.\n",
      "  return np.add.reduce(sorted[indexer] * weights, axis=axis) / sumval\n"
     ]
    },
    {
     "data": {
      "text/plain": [
       "<seaborn.axisgrid.JointGrid at 0x12065c828>"
      ]
     },
     "execution_count": 6,
     "metadata": {},
     "output_type": "execute_result"
    },
    {
     "data": {
      "image/png": "[encoded data removed]",
      "text/plain": [
       "<Figure size 432x432 with 3 Axes>"
      ]
     },
     "metadata": {},
     "output_type": "display_data"
    }
   ],
   "source": [
    "sns.set_style('whitegrid')\n",
    "sns.jointplot(x=data['throughput'],y=data['CPU'],kind=\"scatter\")\n"
   ]
  },
  {
   "cell_type": "code",
   "execution_count": 7,
   "metadata": {},
   "outputs": [
    {
     "data": {
      "text/plain": [
       "<seaborn.axisgrid.PairGrid at 0x110189630>"
      ]
     },
     "execution_count": 7,
     "metadata": {},
     "output_type": "execute_result"
    },
    {
     "data": {
      "image/png": "[encoded data removed]",
      "text/plain": [
       "<Figure size 540x540 with 12 Axes>"
      ]
     },
     "metadata": {},
     "output_type": "display_data"
    }
   ],
   "source": [
    "sns.pairplot(data)\n"
   ]
  },
  {
   "cell_type": "code",
   "execution_count": 8,
   "metadata": {},
   "outputs": [
    {
     "data": {
      "text/plain": [
       "0.9960984119006693"
      ]
     },
     "execution_count": 8,
     "metadata": {},
     "output_type": "execute_result"
    }
   ],
   "source": [
    "data['throughput'].corr(data['CPU'])\n"
   ]
  },
  {
   "cell_type": "code",
   "execution_count": 9,
   "metadata": {},
   "outputs": [],
   "source": [
    "datalm = data\n"
   ]
  },
  {
   "cell_type": "code",
   "execution_count": 10,
   "metadata": {},
   "outputs": [
    {
     "data": {
      "text/plain": [
       "<seaborn.axisgrid.FacetGrid at 0x122815278>"
      ]
     },
     "execution_count": 10,
     "metadata": {},
     "output_type": "execute_result"
    },
    {
     "data": {
      "image/png": "[encoded data removed]",
      "text/plain": [
       "<Figure size 360x360 with 1 Axes>"
      ]
     },
     "metadata": {},
     "output_type": "display_data"
    }
   ],
   "source": [
    "sns.lmplot(x='throughput',y='CPU',data=datalm)\n"
   ]
  },
  {
   "cell_type": "code",
   "execution_count": 11,
   "metadata": {},
   "outputs": [
    {
     "data": {
      "text/plain": [
       "RandomForestRegressor(bootstrap=True, criterion='mse', max_depth=2,\n",
       "           max_features='auto', max_leaf_nodes=None,\n",
       "           min_impurity_decrease=0.0, min_impurity_split=None,\n",
       "           min_samples_leaf=1, min_samples_split=2,\n",
       "           min_weight_fraction_leaf=0.0, n_estimators=100, n_jobs=None,\n",
       "           oob_score=False, random_state=0, verbose=0, warm_start=False)"
      ]
     },
     "execution_count": 11,
     "metadata": {},
     "output_type": "execute_result"
    }
   ],
   "source": [
    "#Training and Testing Data\n",
    "X = data[['throughput']]\n",
    "y = data['CPU']\n",
    "scaler = MinMaxScaler(feature_range=(0, 1))\n",
    "X = scaler.fit_transform(X)\n",
    "n = len(X)\n",
    "kf = KFold(n_splits=5)\n",
    "fold = 0\n",
    "for train_index, test_index in kf.split(X):\n",
    "    fold += 1\n",
    "    X_train, X_test = X[train_index], X[test_index]\n",
    "    y_train, y_test = y[train_index], y[test_index]\n",
    "\n",
    "rf = RandomForestRegressor(max_depth=2, random_state=0,\n",
    "                             n_estimators=100)\n",
    "rf.fit(X_train,y_train)"
   ]
  },
  {
   "cell_type": "code",
   "execution_count": 12,
   "metadata": {},
   "outputs": [
    {
     "data": {
      "text/html": [
       "<div>\n",
       "<style scoped>\n",
       "    .dataframe tbody tr th:only-of-type {\n",
       "        vertical-align: middle;\n",
       "    }\n",
       "\n",
       "    .dataframe tbody tr th {\n",
       "        vertical-align: top;\n",
       "    }\n",
       "\n",
       "    .dataframe thead th {\n",
       "        text-align: right;\n",
       "    }\n",
       "</style>\n",
       "<table border=\"1\" class=\"dataframe\">\n",
       "  <thead>\n",
       "    <tr style=\"text-align: right;\">\n",
       "      <th></th>\n",
       "      <th>Throuput</th>\n",
       "      <th>Actual_CPU</th>\n",
       "      <th>Predicted_CPU</th>\n",
       "    </tr>\n",
       "  </thead>\n",
       "  <tbody>\n",
       "    <tr>\n",
       "      <th>0</th>\n",
       "      <td>0.671546</td>\n",
       "      <td>0.592078</td>\n",
       "      <td>0.643311</td>\n",
       "    </tr>\n",
       "    <tr>\n",
       "      <th>1</th>\n",
       "      <td>0.586078</td>\n",
       "      <td>0.500662</td>\n",
       "      <td>0.523008</td>\n",
       "    </tr>\n",
       "    <tr>\n",
       "      <th>2</th>\n",
       "      <td>0.379941</td>\n",
       "      <td>0.301197</td>\n",
       "      <td>0.361944</td>\n",
       "    </tr>\n",
       "    <tr>\n",
       "      <th>3</th>\n",
       "      <td>0.274474</td>\n",
       "      <td>0.209630</td>\n",
       "      <td>0.112258</td>\n",
       "    </tr>\n",
       "    <tr>\n",
       "      <th>4</th>\n",
       "      <td>0.153184</td>\n",
       "      <td>0.112262</td>\n",
       "      <td>0.103660</td>\n",
       "    </tr>\n",
       "    <tr>\n",
       "      <th>5</th>\n",
       "      <td>0.963302</td>\n",
       "      <td>0.948188</td>\n",
       "      <td>0.897942</td>\n",
       "    </tr>\n",
       "    <tr>\n",
       "      <th>6</th>\n",
       "      <td>0.168069</td>\n",
       "      <td>0.123777</td>\n",
       "      <td>0.103660</td>\n",
       "    </tr>\n",
       "    <tr>\n",
       "      <th>7</th>\n",
       "      <td>0.452815</td>\n",
       "      <td>0.368485</td>\n",
       "      <td>0.361944</td>\n",
       "    </tr>\n",
       "    <tr>\n",
       "      <th>8</th>\n",
       "      <td>0.731907</td>\n",
       "      <td>0.659974</td>\n",
       "      <td>0.643311</td>\n",
       "    </tr>\n",
       "    <tr>\n",
       "      <th>9</th>\n",
       "      <td>0.295344</td>\n",
       "      <td>0.227223</td>\n",
       "      <td>0.205858</td>\n",
       "    </tr>\n",
       "    <tr>\n",
       "      <th>10</th>\n",
       "      <td>0.158178</td>\n",
       "      <td>0.116113</td>\n",
       "      <td>0.103660</td>\n",
       "    </tr>\n",
       "    <tr>\n",
       "      <th>11</th>\n",
       "      <td>0.271622</td>\n",
       "      <td>0.207246</td>\n",
       "      <td>0.112258</td>\n",
       "    </tr>\n",
       "    <tr>\n",
       "      <th>12</th>\n",
       "      <td>0.806970</td>\n",
       "      <td>0.748462</td>\n",
       "      <td>0.651082</td>\n",
       "    </tr>\n",
       "    <tr>\n",
       "      <th>13</th>\n",
       "      <td>0.685717</td>\n",
       "      <td>0.607764</td>\n",
       "      <td>0.643311</td>\n",
       "    </tr>\n",
       "    <tr>\n",
       "      <th>14</th>\n",
       "      <td>0.493475</td>\n",
       "      <td>0.407530</td>\n",
       "      <td>0.361944</td>\n",
       "    </tr>\n",
       "    <tr>\n",
       "      <th>15</th>\n",
       "      <td>0.911789</td>\n",
       "      <td>0.879975</td>\n",
       "      <td>0.897942</td>\n",
       "    </tr>\n",
       "    <tr>\n",
       "      <th>16</th>\n",
       "      <td>0.684744</td>\n",
       "      <td>0.606682</td>\n",
       "      <td>0.643311</td>\n",
       "    </tr>\n",
       "    <tr>\n",
       "      <th>17</th>\n",
       "      <td>0.833716</td>\n",
       "      <td>0.781119</td>\n",
       "      <td>0.843579</td>\n",
       "    </tr>\n",
       "    <tr>\n",
       "      <th>18</th>\n",
       "      <td>0.586892</td>\n",
       "      <td>0.501508</td>\n",
       "      <td>0.536822</td>\n",
       "    </tr>\n",
       "    <tr>\n",
       "      <th>19</th>\n",
       "      <td>0.665496</td>\n",
       "      <td>0.585427</td>\n",
       "      <td>0.643311</td>\n",
       "    </tr>\n",
       "    <tr>\n",
       "      <th>20</th>\n",
       "      <td>0.952324</td>\n",
       "      <td>0.933446</td>\n",
       "      <td>0.897942</td>\n",
       "    </tr>\n",
       "    <tr>\n",
       "      <th>21</th>\n",
       "      <td>0.636966</td>\n",
       "      <td>0.554439</td>\n",
       "      <td>0.643311</td>\n",
       "    </tr>\n",
       "    <tr>\n",
       "      <th>22</th>\n",
       "      <td>0.383913</td>\n",
       "      <td>0.304778</td>\n",
       "      <td>0.361944</td>\n",
       "    </tr>\n",
       "    <tr>\n",
       "      <th>23</th>\n",
       "      <td>0.599411</td>\n",
       "      <td>0.514570</td>\n",
       "      <td>0.579696</td>\n",
       "    </tr>\n",
       "    <tr>\n",
       "      <th>24</th>\n",
       "      <td>0.579286</td>\n",
       "      <td>0.493627</td>\n",
       "      <td>0.404119</td>\n",
       "    </tr>\n",
       "    <tr>\n",
       "      <th>25</th>\n",
       "      <td>0.903470</td>\n",
       "      <td>0.869186</td>\n",
       "      <td>0.897942</td>\n",
       "    </tr>\n",
       "    <tr>\n",
       "      <th>26</th>\n",
       "      <td>0.815877</td>\n",
       "      <td>0.759271</td>\n",
       "      <td>0.716397</td>\n",
       "    </tr>\n",
       "    <tr>\n",
       "      <th>27</th>\n",
       "      <td>0.162170</td>\n",
       "      <td>0.119199</td>\n",
       "      <td>0.103660</td>\n",
       "    </tr>\n",
       "    <tr>\n",
       "      <th>28</th>\n",
       "      <td>0.914032</td>\n",
       "      <td>0.882895</td>\n",
       "      <td>0.897942</td>\n",
       "    </tr>\n",
       "    <tr>\n",
       "      <th>29</th>\n",
       "      <td>0.690460</td>\n",
       "      <td>0.613049</td>\n",
       "      <td>0.643311</td>\n",
       "    </tr>\n",
       "    <tr>\n",
       "      <th>30</th>\n",
       "      <td>0.802848</td>\n",
       "      <td>0.743483</td>\n",
       "      <td>0.643311</td>\n",
       "    </tr>\n",
       "    <tr>\n",
       "      <th>31</th>\n",
       "      <td>0.379968</td>\n",
       "      <td>0.301222</td>\n",
       "      <td>0.361944</td>\n",
       "    </tr>\n",
       "    <tr>\n",
       "      <th>32</th>\n",
       "      <td>0.135630</td>\n",
       "      <td>0.098836</td>\n",
       "      <td>0.103660</td>\n",
       "    </tr>\n",
       "    <tr>\n",
       "      <th>33</th>\n",
       "      <td>0.071695</td>\n",
       "      <td>0.051288</td>\n",
       "      <td>0.103660</td>\n",
       "    </tr>\n",
       "    <tr>\n",
       "      <th>34</th>\n",
       "      <td>0.300103</td>\n",
       "      <td>0.231270</td>\n",
       "      <td>0.213578</td>\n",
       "    </tr>\n",
       "    <tr>\n",
       "      <th>35</th>\n",
       "      <td>0.460996</td>\n",
       "      <td>0.376254</td>\n",
       "      <td>0.361944</td>\n",
       "    </tr>\n",
       "    <tr>\n",
       "      <th>36</th>\n",
       "      <td>0.607420</td>\n",
       "      <td>0.522986</td>\n",
       "      <td>0.629328</td>\n",
       "    </tr>\n",
       "    <tr>\n",
       "      <th>37</th>\n",
       "      <td>0.223161</td>\n",
       "      <td>0.167438</td>\n",
       "      <td>0.103660</td>\n",
       "    </tr>\n",
       "    <tr>\n",
       "      <th>38</th>\n",
       "      <td>0.443580</td>\n",
       "      <td>0.359769</td>\n",
       "      <td>0.361944</td>\n",
       "    </tr>\n",
       "    <tr>\n",
       "      <th>39</th>\n",
       "      <td>0.537873</td>\n",
       "      <td>0.451438</td>\n",
       "      <td>0.361944</td>\n",
       "    </tr>\n",
       "    <tr>\n",
       "      <th>40</th>\n",
       "      <td>0.994260</td>\n",
       "      <td>0.990365</td>\n",
       "      <td>0.897942</td>\n",
       "    </tr>\n",
       "    <tr>\n",
       "      <th>41</th>\n",
       "      <td>0.068985</td>\n",
       "      <td>0.049318</td>\n",
       "      <td>0.103660</td>\n",
       "    </tr>\n",
       "    <tr>\n",
       "      <th>42</th>\n",
       "      <td>0.274932</td>\n",
       "      <td>0.210014</td>\n",
       "      <td>0.112258</td>\n",
       "    </tr>\n",
       "    <tr>\n",
       "      <th>43</th>\n",
       "      <td>0.415263</td>\n",
       "      <td>0.333388</td>\n",
       "      <td>0.361944</td>\n",
       "    </tr>\n",
       "    <tr>\n",
       "      <th>44</th>\n",
       "      <td>0.566798</td>\n",
       "      <td>0.480777</td>\n",
       "      <td>0.367493</td>\n",
       "    </tr>\n",
       "    <tr>\n",
       "      <th>45</th>\n",
       "      <td>0.629404</td>\n",
       "      <td>0.546328</td>\n",
       "      <td>0.640836</td>\n",
       "    </tr>\n",
       "    <tr>\n",
       "      <th>46</th>\n",
       "      <td>0.989843</td>\n",
       "      <td>0.984292</td>\n",
       "      <td>0.897942</td>\n",
       "    </tr>\n",
       "    <tr>\n",
       "      <th>47</th>\n",
       "      <td>0.775826</td>\n",
       "      <td>0.711190</td>\n",
       "      <td>0.643311</td>\n",
       "    </tr>\n",
       "    <tr>\n",
       "      <th>48</th>\n",
       "      <td>0.892491</td>\n",
       "      <td>0.855041</td>\n",
       "      <td>0.897942</td>\n",
       "    </tr>\n",
       "    <tr>\n",
       "      <th>49</th>\n",
       "      <td>0.778150</td>\n",
       "      <td>0.713943</td>\n",
       "      <td>0.643311</td>\n",
       "    </tr>\n",
       "    <tr>\n",
       "      <th>50</th>\n",
       "      <td>0.132122</td>\n",
       "      <td>0.096172</td>\n",
       "      <td>0.103660</td>\n",
       "    </tr>\n",
       "    <tr>\n",
       "      <th>51</th>\n",
       "      <td>0.483621</td>\n",
       "      <td>0.397967</td>\n",
       "      <td>0.361944</td>\n",
       "    </tr>\n",
       "    <tr>\n",
       "      <th>52</th>\n",
       "      <td>0.351643</td>\n",
       "      <td>0.275969</td>\n",
       "      <td>0.359090</td>\n",
       "    </tr>\n",
       "    <tr>\n",
       "      <th>53</th>\n",
       "      <td>0.385247</td>\n",
       "      <td>0.305983</td>\n",
       "      <td>0.361944</td>\n",
       "    </tr>\n",
       "    <tr>\n",
       "      <th>54</th>\n",
       "      <td>0.881291</td>\n",
       "      <td>0.840722</td>\n",
       "      <td>0.897942</td>\n",
       "    </tr>\n",
       "    <tr>\n",
       "      <th>55</th>\n",
       "      <td>0.811422</td>\n",
       "      <td>0.753857</td>\n",
       "      <td>0.680010</td>\n",
       "    </tr>\n",
       "    <tr>\n",
       "      <th>56</th>\n",
       "      <td>0.309168</td>\n",
       "      <td>0.239017</td>\n",
       "      <td>0.239580</td>\n",
       "    </tr>\n",
       "    <tr>\n",
       "      <th>57</th>\n",
       "      <td>0.959387</td>\n",
       "      <td>0.942918</td>\n",
       "      <td>0.897942</td>\n",
       "    </tr>\n",
       "    <tr>\n",
       "      <th>58</th>\n",
       "      <td>0.713153</td>\n",
       "      <td>0.638575</td>\n",
       "      <td>0.643311</td>\n",
       "    </tr>\n",
       "    <tr>\n",
       "      <th>59</th>\n",
       "      <td>0.936465</td>\n",
       "      <td>0.912348</td>\n",
       "      <td>0.897942</td>\n",
       "    </tr>\n",
       "  </tbody>\n",
       "</table>\n",
       "</div>"
      ],
      "text/plain": [
       "    Throuput  Actual_CPU  Predicted_CPU\n",
       "0   0.671546    0.592078       0.643311\n",
       "1   0.586078    0.500662       0.523008\n",
       "2   0.379941    0.301197       0.361944\n",
       "3   0.274474    0.209630       0.112258\n",
       "4   0.153184    0.112262       0.103660\n",
       "5   0.963302    0.948188       0.897942\n",
       "6   0.168069    0.123777       0.103660\n",
       "7   0.452815    0.368485       0.361944\n",
       "8   0.731907    0.659974       0.643311\n",
       "9   0.295344    0.227223       0.205858\n",
       "10  0.158178    0.116113       0.103660\n",
       "11  0.271622    0.207246       0.112258\n",
       "12  0.806970    0.748462       0.651082\n",
       "13  0.685717    0.607764       0.643311\n",
       "14  0.493475    0.407530       0.361944\n",
       "15  0.911789    0.879975       0.897942\n",
       "16  0.684744    0.606682       0.643311\n",
       "17  0.833716    0.781119       0.843579\n",
       "18  0.586892    0.501508       0.536822\n",
       "19  0.665496    0.585427       0.643311\n",
       "20  0.952324    0.933446       0.897942\n",
       "21  0.636966    0.554439       0.643311\n",
       "22  0.383913    0.304778       0.361944\n",
       "23  0.599411    0.514570       0.579696\n",
       "24  0.579286    0.493627       0.404119\n",
       "25  0.903470    0.869186       0.897942\n",
       "26  0.815877    0.759271       0.716397\n",
       "27  0.162170    0.119199       0.103660\n",
       "28  0.914032    0.882895       0.897942\n",
       "29  0.690460    0.613049       0.643311\n",
       "30  0.802848    0.743483       0.643311\n",
       "31  0.379968    0.301222       0.361944\n",
       "32  0.135630    0.098836       0.103660\n",
       "33  0.071695    0.051288       0.103660\n",
       "34  0.300103    0.231270       0.213578\n",
       "35  0.460996    0.376254       0.361944\n",
       "36  0.607420    0.522986       0.629328\n",
       "37  0.223161    0.167438       0.103660\n",
       "38  0.443580    0.359769       0.361944\n",
       "39  0.537873    0.451438       0.361944\n",
       "40  0.994260    0.990365       0.897942\n",
       "41  0.068985    0.049318       0.103660\n",
       "42  0.274932    0.210014       0.112258\n",
       "43  0.415263    0.333388       0.361944\n",
       "44  0.566798    0.480777       0.367493\n",
       "45  0.629404    0.546328       0.640836\n",
       "46  0.989843    0.984292       0.897942\n",
       "47  0.775826    0.711190       0.643311\n",
       "48  0.892491    0.855041       0.897942\n",
       "49  0.778150    0.713943       0.643311\n",
       "50  0.132122    0.096172       0.103660\n",
       "51  0.483621    0.397967       0.361944\n",
       "52  0.351643    0.275969       0.359090\n",
       "53  0.385247    0.305983       0.361944\n",
       "54  0.881291    0.840722       0.897942\n",
       "55  0.811422    0.753857       0.680010\n",
       "56  0.309168    0.239017       0.239580\n",
       "57  0.959387    0.942918       0.897942\n",
       "58  0.713153    0.638575       0.643311\n",
       "59  0.936465    0.912348       0.897942"
      ]
     },
     "execution_count": 12,
     "metadata": {},
     "output_type": "execute_result"
    }
   ],
   "source": [
    "#Test data prediction\n",
    "prediction = rf.predict(X_test)\n",
    "X_test = np.array(X_test)\n",
    "y_test = np.array(list(y_test))\n",
    "prediction= np.array(prediction)\n",
    "df = pd.DataFrame({'Throuput':X_test.flatten(),'Actual_CPU': y_test.flatten(), 'Predicted_CPU': prediction.flatten()})\n",
    "df"
   ]
  },
  {
   "cell_type": "code",
   "execution_count": 13,
   "metadata": {},
   "outputs": [
    {
     "name": "stdout",
     "output_type": "stream",
     "text": [
      "MAE: 0.04931577502212365\n",
      "MSE: 0.003437766647323448\n",
      "RMSE: 0.05863247092971136\n"
     ]
    }
   ],
   "source": [
    "#Model Evaluation\n",
    "print('MAE:', metrics.mean_absolute_error(y_test, prediction))\n",
    "print('MSE:', metrics.mean_squared_error(y_test, prediction))\n",
    "print('RMSE:', np.sqrt(metrics.mean_squared_error(y_test, prediction)))\n"
   ]
  },
  {
   "cell_type": "code",
   "execution_count": 14,
   "metadata": {},
   "outputs": [
    {
     "name": "stderr",
     "output_type": "stream",
     "text": [
      "/usr/local/lib/python3.7/site-packages/scipy/stats/stats.py:1713: FutureWarning: Using a non-tuple sequence for multidimensional indexing is deprecated; use `arr[tuple(seq)]` instead of `arr[seq]`. In the future this will be interpreted as an array index, `arr[np.array(seq)]`, which will result either in an error or a different result.\n",
      "  return np.add.reduce(sorted[indexer] * weights, axis=axis) / sumval\n"
     ]
    },
    {
     "data": {
      "text/plain": [
       "<matplotlib.axes._subplots.AxesSubplot at 0x122dabcc0>"
      ]
     },
     "execution_count": 14,
     "metadata": {},
     "output_type": "execute_result"
    },
    {
     "data": {
      "image/png": "[encoded data removed]",
      "text/plain": [
       "<Figure size 432x288 with 1 Axes>"
      ]
     },
     "metadata": {},
     "output_type": "display_data"
    }
   ],
   "source": [
    "#Residuals\n",
    "sns.distplot(y_test-prediction,bins=30)"
   ]
  },
  {
   "cell_type": "code",
   "execution_count": 15,
   "metadata": {},
   "outputs": [],
   "source": [
    "# save the model to disk\n",
    "filename = '../models/randomForest_model.sav'\n",
    "pickle.dump(rf, open(filename, 'wb'))"
   ]
  },
  {
   "cell_type": "code",
   "execution_count": 16,
   "metadata": {},
   "outputs": [
    {
     "data": {
      "text/plain": [
       "array([0.10366032])"
      ]
     },
     "execution_count": 16,
     "metadata": {},
     "output_type": "execute_result"
    }
   ],
   "source": [
    "rf.predict([[0]])"
   ]
  },
  {
   "cell_type": "code",
   "execution_count": null,
   "metadata": {},
   "outputs": [],
   "source": []
  }
 ],
 "metadata": {
  "kernelspec": {
   "display_name": "Python 3",
   "language": "python",
   "name": "python3"
  },
  "language_info": {
   "codemirror_mode": {
    "name": "ipython",
    "version": 3
   },
   "file_extension": ".py",
   "mimetype": "text/x-python",
   "name": "python",
   "nbconvert_exporter": "python",
   "pygments_lexer": "ipython3",
   "version": "3.7.1"
  }
 },
 "nbformat": 4,
 "nbformat_minor": 2
}
