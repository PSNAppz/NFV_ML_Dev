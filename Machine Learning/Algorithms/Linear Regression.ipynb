{
 "cells": [
  {
   "cell_type": "code",
   "execution_count": 54,
   "metadata": {},
   "outputs": [],
   "source": [
    "import pandas as pd\n",
    "import numpy as np\n",
    "import matplotlib.pyplot as plt\n",
    "import seaborn as sns\n",
    "from sklearn.model_selection import KFold\n",
    "from sklearn.model_selection import train_test_split\n",
    "from sklearn.linear_model import LinearRegression\n",
    "from sklearn.preprocessing import MinMaxScaler\n",
    "from sklearn.externals import joblib\n",
    "from sklearn import metrics\n",
    "import pickle\n",
    "%matplotlib inline"
   ]
  },
  {
   "cell_type": "code",
   "execution_count": 55,
   "metadata": {},
   "outputs": [],
   "source": [
    "#Read Data\n",
    "data = pd.read_csv('../../RealData/RealData_Small.csv')\n",
    "#data = pd.read_csv('../../SynData/data/GeneratedData.csv')\n"
   ]
  },
  {
   "cell_type": "code",
   "execution_count": 56,
   "metadata": {},
   "outputs": [
    {
     "data": {
      "text/html": [
       "<div>\n",
       "<style scoped>\n",
       "    .dataframe tbody tr th:only-of-type {\n",
       "        vertical-align: middle;\n",
       "    }\n",
       "\n",
       "    .dataframe tbody tr th {\n",
       "        vertical-align: top;\n",
       "    }\n",
       "\n",
       "    .dataframe thead th {\n",
       "        text-align: right;\n",
       "    }\n",
       "</style>\n",
       "<table border=\"1\" class=\"dataframe\">\n",
       "  <thead>\n",
       "    <tr style=\"text-align: right;\">\n",
       "      <th></th>\n",
       "      <th>Unnamed: 0</th>\n",
       "      <th>CPU</th>\n",
       "      <th>MEM</th>\n",
       "      <th>throughput</th>\n",
       "    </tr>\n",
       "  </thead>\n",
       "  <tbody>\n",
       "    <tr>\n",
       "      <th>0</th>\n",
       "      <td>0</td>\n",
       "      <td>0.1</td>\n",
       "      <td>64.0</td>\n",
       "      <td>517.21</td>\n",
       "    </tr>\n",
       "    <tr>\n",
       "      <th>1</th>\n",
       "      <td>1</td>\n",
       "      <td>0.1</td>\n",
       "      <td>64.0</td>\n",
       "      <td>521.33</td>\n",
       "    </tr>\n",
       "    <tr>\n",
       "      <th>2</th>\n",
       "      <td>2</td>\n",
       "      <td>0.1</td>\n",
       "      <td>64.0</td>\n",
       "      <td>510.55</td>\n",
       "    </tr>\n",
       "    <tr>\n",
       "      <th>3</th>\n",
       "      <td>3</td>\n",
       "      <td>0.1</td>\n",
       "      <td>64.0</td>\n",
       "      <td>512.59</td>\n",
       "    </tr>\n",
       "    <tr>\n",
       "      <th>4</th>\n",
       "      <td>4</td>\n",
       "      <td>0.1</td>\n",
       "      <td>64.0</td>\n",
       "      <td>494.36</td>\n",
       "    </tr>\n",
       "  </tbody>\n",
       "</table>\n",
       "</div>"
      ],
      "text/plain": [
       "   Unnamed: 0  CPU   MEM  throughput\n",
       "0           0  0.1  64.0      517.21\n",
       "1           1  0.1  64.0      521.33\n",
       "2           2  0.1  64.0      510.55\n",
       "3           3  0.1  64.0      512.59\n",
       "4           4  0.1  64.0      494.36"
      ]
     },
     "execution_count": 56,
     "metadata": {},
     "output_type": "execute_result"
    }
   ],
   "source": [
    "#General data info\n",
    "data.head()"
   ]
  },
  {
   "cell_type": "code",
   "execution_count": 57,
   "metadata": {},
   "outputs": [
    {
     "data": {
      "text/html": [
       "<div>\n",
       "<style scoped>\n",
       "    .dataframe tbody tr th:only-of-type {\n",
       "        vertical-align: middle;\n",
       "    }\n",
       "\n",
       "    .dataframe tbody tr th {\n",
       "        vertical-align: top;\n",
       "    }\n",
       "\n",
       "    .dataframe thead th {\n",
       "        text-align: right;\n",
       "    }\n",
       "</style>\n",
       "<table border=\"1\" class=\"dataframe\">\n",
       "  <thead>\n",
       "    <tr style=\"text-align: right;\">\n",
       "      <th></th>\n",
       "      <th>Unnamed: 0</th>\n",
       "      <th>CPU</th>\n",
       "      <th>MEM</th>\n",
       "      <th>throughput</th>\n",
       "    </tr>\n",
       "  </thead>\n",
       "  <tbody>\n",
       "    <tr>\n",
       "      <th>count</th>\n",
       "      <td>200.000000</td>\n",
       "      <td>200.000000</td>\n",
       "      <td>200.0</td>\n",
       "      <td>199.000000</td>\n",
       "    </tr>\n",
       "    <tr>\n",
       "      <th>mean</th>\n",
       "      <td>99.500000</td>\n",
       "      <td>0.550000</td>\n",
       "      <td>64.0</td>\n",
       "      <td>1868.726231</td>\n",
       "    </tr>\n",
       "    <tr>\n",
       "      <th>std</th>\n",
       "      <td>57.879185</td>\n",
       "      <td>0.287949</td>\n",
       "      <td>0.0</td>\n",
       "      <td>584.920042</td>\n",
       "    </tr>\n",
       "    <tr>\n",
       "      <th>min</th>\n",
       "      <td>0.000000</td>\n",
       "      <td>0.100000</td>\n",
       "      <td>64.0</td>\n",
       "      <td>494.360000</td>\n",
       "    </tr>\n",
       "    <tr>\n",
       "      <th>25%</th>\n",
       "      <td>49.750000</td>\n",
       "      <td>0.300000</td>\n",
       "      <td>64.0</td>\n",
       "      <td>1641.545000</td>\n",
       "    </tr>\n",
       "    <tr>\n",
       "      <th>50%</th>\n",
       "      <td>99.500000</td>\n",
       "      <td>0.550000</td>\n",
       "      <td>64.0</td>\n",
       "      <td>2193.670000</td>\n",
       "    </tr>\n",
       "    <tr>\n",
       "      <th>75%</th>\n",
       "      <td>149.250000</td>\n",
       "      <td>0.800000</td>\n",
       "      <td>64.0</td>\n",
       "      <td>2225.220000</td>\n",
       "    </tr>\n",
       "    <tr>\n",
       "      <th>max</th>\n",
       "      <td>199.000000</td>\n",
       "      <td>1.000000</td>\n",
       "      <td>64.0</td>\n",
       "      <td>2292.520000</td>\n",
       "    </tr>\n",
       "  </tbody>\n",
       "</table>\n",
       "</div>"
      ],
      "text/plain": [
       "       Unnamed: 0         CPU    MEM   throughput\n",
       "count  200.000000  200.000000  200.0   199.000000\n",
       "mean    99.500000    0.550000   64.0  1868.726231\n",
       "std     57.879185    0.287949    0.0   584.920042\n",
       "min      0.000000    0.100000   64.0   494.360000\n",
       "25%     49.750000    0.300000   64.0  1641.545000\n",
       "50%     99.500000    0.550000   64.0  2193.670000\n",
       "75%    149.250000    0.800000   64.0  2225.220000\n",
       "max    199.000000    1.000000   64.0  2292.520000"
      ]
     },
     "execution_count": 57,
     "metadata": {},
     "output_type": "execute_result"
    }
   ],
   "source": [
    "data.describe()"
   ]
  },
  {
   "cell_type": "code",
   "execution_count": 58,
   "metadata": {},
   "outputs": [
    {
     "name": "stdout",
     "output_type": "stream",
     "text": [
      "<class 'pandas.core.frame.DataFrame'>\n",
      "RangeIndex: 200 entries, 0 to 199\n",
      "Data columns (total 4 columns):\n",
      "Unnamed: 0    200 non-null int64\n",
      "CPU           200 non-null float64\n",
      "MEM           200 non-null float64\n",
      "throughput    199 non-null float64\n",
      "dtypes: float64(3), int64(1)\n",
      "memory usage: 6.3 KB\n"
     ]
    }
   ],
   "source": [
    "data.info()"
   ]
  },
  {
   "cell_type": "code",
   "execution_count": 59,
   "metadata": {
    "scrolled": true
   },
   "outputs": [
    {
     "name": "stderr",
     "output_type": "stream",
     "text": [
      "/usr/local/lib/python3.7/site-packages/scipy/stats/stats.py:1713: FutureWarning: Using a non-tuple sequence for multidimensional indexing is deprecated; use `arr[tuple(seq)]` instead of `arr[seq]`. In the future this will be interpreted as an array index, `arr[np.array(seq)]`, which will result either in an error or a different result.\n",
      "  return np.add.reduce(sorted[indexer] * weights, axis=axis) / sumval\n"
     ]
    },
    {
     "data": {
      "text/plain": [
       "<seaborn.axisgrid.JointGrid at 0x11ad8fef0>"
      ]
     },
     "execution_count": 59,
     "metadata": {},
     "output_type": "execute_result"
    },
    {
     "data": {
      "image/png": "[encoded data removed]",
      "text/plain": [
       "<Figure size 432x432 with 3 Axes>"
      ]
     },
     "metadata": {},
     "output_type": "display_data"
    }
   ],
   "source": [
    "sns.set_style('whitegrid')\n",
    "sns.jointplot(x=data['throughput'],y=data['CPU'],kind=\"reg\")\n"
   ]
  },
  {
   "cell_type": "code",
   "execution_count": 60,
   "metadata": {},
   "outputs": [
    {
     "name": "stderr",
     "output_type": "stream",
     "text": [
      "/usr/local/lib/python3.7/site-packages/numpy/lib/histograms.py:754: RuntimeWarning: invalid value encountered in greater_equal\n",
      "  keep = (tmp_a >= first_edge)\n",
      "/usr/local/lib/python3.7/site-packages/numpy/lib/histograms.py:755: RuntimeWarning: invalid value encountered in less_equal\n",
      "  keep &= (tmp_a <= last_edge)\n"
     ]
    },
    {
     "data": {
      "text/plain": [
       "<seaborn.axisgrid.PairGrid at 0x11aef22e8>"
      ]
     },
     "execution_count": 60,
     "metadata": {},
     "output_type": "execute_result"
    },
    {
     "data": {
      "image/png": "[encoded data removed]",
      "text/plain": [
       "<Figure size 720x720 with 20 Axes>"
      ]
     },
     "metadata": {},
     "output_type": "display_data"
    }
   ],
   "source": [
    "sns.pairplot(data)\n"
   ]
  },
  {
   "cell_type": "code",
   "execution_count": 61,
   "metadata": {},
   "outputs": [
    {
     "data": {
      "text/plain": [
       "0.8061384104802221"
      ]
     },
     "execution_count": 61,
     "metadata": {},
     "output_type": "execute_result"
    }
   ],
   "source": [
    "data['throughput'].corr(data['CPU'])\n"
   ]
  },
  {
   "cell_type": "code",
   "execution_count": 62,
   "metadata": {},
   "outputs": [],
   "source": [
    "datalm = data\n"
   ]
  },
  {
   "cell_type": "code",
   "execution_count": 63,
   "metadata": {},
   "outputs": [
    {
     "data": {
      "text/plain": [
       "<seaborn.axisgrid.FacetGrid at 0x11b8324e0>"
      ]
     },
     "execution_count": 63,
     "metadata": {},
     "output_type": "execute_result"
    },
    {
     "data": {
      "image/png": "[encoded data removed]",
      "text/plain": [
       "<Figure size 360x360 with 1 Axes>"
      ]
     },
     "metadata": {},
     "output_type": "display_data"
    }
   ],
   "source": [
    "sns.lmplot(x='throughput',y='CPU',data=datalm)\n"
   ]
  },
  {
   "cell_type": "code",
   "execution_count": 91,
   "metadata": {},
   "outputs": [
    {
     "ename": "KeyError",
     "evalue": "'[1.00000e-01 2.00000e-01 3.00000e-01 4.00000e-01 5.00000e-01 6.00000e-01\\n 7.00000e-01 8.00000e-01 9.00000e-01 1.00000e+00 4.94360e+02 4.98380e+02\\n 5.01830e+02 5.02000e+02 5.04390e+02 5.04470e+02 5.05270e+02 5.06460e+02\\n 5.07220e+02 5.07380e+02 5.10550e+02 5.11770e+02 5.11850e+02 5.11960e+02\\n 5.12590e+02 5.15020e+02 5.17210e+02 5.18220e+02 5.18890e+02 5.21330e+02\\n 1.04260e+03 1.04398e+03 1.04732e+03 1.05012e+03 1.05632e+03 1.05679e+03\\n 1.05680e+03 1.05755e+03 1.05893e+03 1.05977e+03 1.06000e+03 1.06122e+03\\n 1.06173e+03 1.06469e+03 1.06584e+03 1.06998e+03 1.07013e+03 1.07394e+03\\n 1.08182e+03 1.08420e+03 1.61507e+03 1.61817e+03 1.62612e+03 1.62705e+03\\n 1.62900e+03 1.62904e+03 1.63157e+03 1.63606e+03 1.63650e+03 1.64143e+03\\n 1.64166e+03 1.64384e+03 1.64581e+03 1.64753e+03 1.64790e+03 1.64837e+03\\n 1.65019e+03 1.65213e+03 1.66417e+03 1.66738e+03 2.13169e+03 2.13777e+03\\n 2.13838e+03 2.13959e+03 2.14997e+03 2.15592e+03 2.16001e+03 2.16029e+03\\n 2.16138e+03 2.16163e+03 2.16286e+03 2.16381e+03 2.16464e+03 2.16491e+03\\n 2.16831e+03 2.17200e+03 2.17400e+03 2.17435e+03 2.17638e+03 2.17639e+03\\n 2.17645e+03 2.17812e+03 2.17871e+03 2.17907e+03 2.18039e+03 2.18067e+03\\n 2.18162e+03 2.18274e+03 2.18567e+03 2.18585e+03 2.18598e+03 2.18618e+03\\n 2.18633e+03 2.18722e+03 2.18856e+03 2.19032e+03 2.19255e+03 2.19306e+03\\n 2.19360e+03 2.19367e+03 2.19489e+03 2.19700e+03 2.19747e+03 2.19890e+03\\n 2.19953e+03 2.20055e+03 2.20153e+03 2.20186e+03 2.20213e+03 2.20348e+03\\n 2.20359e+03 2.20616e+03 2.20637e+03 2.20647e+03 2.20694e+03 2.20758e+03\\n 2.20830e+03 2.20947e+03 2.20997e+03 2.21018e+03 2.21033e+03 2.21151e+03\\n 2.21202e+03 2.21217e+03 2.21236e+03 2.21355e+03 2.21459e+03 2.21498e+03\\n 2.21522e+03 2.21559e+03 2.21570e+03 2.21688e+03 2.21710e+03 2.21801e+03\\n 2.21804e+03 2.21908e+03 2.21930e+03 2.22084e+03 2.22092e+03 2.22195e+03\\n 2.22204e+03 2.22224e+03 2.22270e+03 2.22277e+03 2.22312e+03 2.22359e+03\\n 2.22372e+03 2.22502e+03 2.22542e+03 2.22580e+03 2.22636e+03 2.22641e+03\\n 2.22686e+03 2.22742e+03 2.22863e+03 2.22918e+03 2.22950e+03 2.22980e+03\\n 2.23323e+03 2.23352e+03 2.23359e+03 2.23508e+03 2.23565e+03 2.23639e+03\\n 2.23694e+03 2.23730e+03 2.23858e+03 2.24142e+03 2.24155e+03 2.24327e+03\\n 2.24671e+03 2.24819e+03 2.24831e+03 2.24927e+03 2.24934e+03 2.24979e+03\\n 2.25069e+03 2.25159e+03 2.25207e+03 2.25322e+03 2.25509e+03 2.25521e+03\\n 2.25645e+03 2.25779e+03 2.25796e+03 2.25817e+03 2.25833e+03 2.25911e+03\\n 2.25919e+03 2.26088e+03 2.26091e+03 2.26226e+03 2.26833e+03 2.26922e+03\\n 2.27454e+03 2.27636e+03 2.27695e+03 2.29252e+03         nan] not in index'",
     "output_type": "error",
     "traceback": [
      "\u001b[0;31m---------------------------------------------------------------------------\u001b[0m",
      "\u001b[0;31mKeyError\u001b[0m                                  Traceback (most recent call last)",
      "\u001b[0;32m<ipython-input-91-f0bad8c342dc>\u001b[0m in \u001b[0;36m<module>\u001b[0;34m\u001b[0m\n\u001b[1;32m      2\u001b[0m \u001b[0mc\u001b[0m \u001b[0;34m=\u001b[0m \u001b[0mdata\u001b[0m\u001b[0;34m[\u001b[0m\u001b[0;34m'throughput'\u001b[0m\u001b[0;34m]\u001b[0m\u001b[0;34m\u001b[0m\u001b[0;34m\u001b[0m\u001b[0m\n\u001b[1;32m      3\u001b[0m \u001b[0my\u001b[0m \u001b[0;34m=\u001b[0m \u001b[0mdata\u001b[0m\u001b[0;34m[\u001b[0m\u001b[0;34m'CPU'\u001b[0m\u001b[0;34m]\u001b[0m\u001b[0;34m\u001b[0m\u001b[0;34m\u001b[0m\u001b[0m\n\u001b[0;32m----> 4\u001b[0;31m \u001b[0msns\u001b[0m\u001b[0;34m.\u001b[0m\u001b[0mlmplot\u001b[0m\u001b[0;34m(\u001b[0m\u001b[0mx\u001b[0m\u001b[0;34m=\u001b[0m\u001b[0mc\u001b[0m\u001b[0;34m,\u001b[0m\u001b[0my\u001b[0m\u001b[0;34m=\u001b[0m\u001b[0my\u001b[0m\u001b[0;34m,\u001b[0m\u001b[0mdata\u001b[0m\u001b[0;34m=\u001b[0m\u001b[0mdatalm\u001b[0m\u001b[0;34m)\u001b[0m\u001b[0;34m\u001b[0m\u001b[0;34m\u001b[0m\u001b[0m\n\u001b[0m\u001b[1;32m      5\u001b[0m \u001b[0;34m\u001b[0m\u001b[0m\n\u001b[1;32m      6\u001b[0m \u001b[0mX\u001b[0m \u001b[0;34m=\u001b[0m \u001b[0mdata\u001b[0m\u001b[0;34m[\u001b[0m\u001b[0;34m[\u001b[0m\u001b[0;34m'throughput'\u001b[0m\u001b[0;34m]\u001b[0m\u001b[0;34m]\u001b[0m\u001b[0;34m\u001b[0m\u001b[0;34m\u001b[0m\u001b[0m\n",
      "\u001b[0;32m/usr/local/lib/python3.7/site-packages/seaborn/regression.py\u001b[0m in \u001b[0;36mlmplot\u001b[0;34m(x, y, data, hue, col, row, palette, col_wrap, height, aspect, markers, sharex, sharey, hue_order, col_order, row_order, legend, legend_out, x_estimator, x_bins, x_ci, scatter, fit_reg, ci, n_boot, units, order, logistic, lowess, robust, logx, x_partial, y_partial, truncate, x_jitter, y_jitter, scatter_kws, line_kws, size)\u001b[0m\n\u001b[1;32m    549\u001b[0m     \u001b[0mneed_cols\u001b[0m \u001b[0;34m=\u001b[0m \u001b[0;34m[\u001b[0m\u001b[0mx\u001b[0m\u001b[0;34m,\u001b[0m \u001b[0my\u001b[0m\u001b[0;34m,\u001b[0m \u001b[0mhue\u001b[0m\u001b[0;34m,\u001b[0m \u001b[0mcol\u001b[0m\u001b[0;34m,\u001b[0m \u001b[0mrow\u001b[0m\u001b[0;34m,\u001b[0m \u001b[0munits\u001b[0m\u001b[0;34m,\u001b[0m \u001b[0mx_partial\u001b[0m\u001b[0;34m,\u001b[0m \u001b[0my_partial\u001b[0m\u001b[0;34m]\u001b[0m\u001b[0;34m\u001b[0m\u001b[0;34m\u001b[0m\u001b[0m\n\u001b[1;32m    550\u001b[0m     \u001b[0mcols\u001b[0m \u001b[0;34m=\u001b[0m \u001b[0mnp\u001b[0m\u001b[0;34m.\u001b[0m\u001b[0munique\u001b[0m\u001b[0;34m(\u001b[0m\u001b[0;34m[\u001b[0m\u001b[0ma\u001b[0m \u001b[0;32mfor\u001b[0m \u001b[0ma\u001b[0m \u001b[0;32min\u001b[0m \u001b[0mneed_cols\u001b[0m \u001b[0;32mif\u001b[0m \u001b[0ma\u001b[0m \u001b[0;32mis\u001b[0m \u001b[0;32mnot\u001b[0m \u001b[0;32mNone\u001b[0m\u001b[0;34m]\u001b[0m\u001b[0;34m)\u001b[0m\u001b[0;34m.\u001b[0m\u001b[0mtolist\u001b[0m\u001b[0;34m(\u001b[0m\u001b[0;34m)\u001b[0m\u001b[0;34m\u001b[0m\u001b[0;34m\u001b[0m\u001b[0m\n\u001b[0;32m--> 551\u001b[0;31m     \u001b[0mdata\u001b[0m \u001b[0;34m=\u001b[0m \u001b[0mdata\u001b[0m\u001b[0;34m[\u001b[0m\u001b[0mcols\u001b[0m\u001b[0;34m]\u001b[0m\u001b[0;34m\u001b[0m\u001b[0;34m\u001b[0m\u001b[0m\n\u001b[0m\u001b[1;32m    552\u001b[0m \u001b[0;34m\u001b[0m\u001b[0m\n\u001b[1;32m    553\u001b[0m     \u001b[0;31m# Initialize the grid\u001b[0m\u001b[0;34m\u001b[0m\u001b[0;34m\u001b[0m\u001b[0;34m\u001b[0m\u001b[0m\n",
      "\u001b[0;32m/usr/local/lib/python3.7/site-packages/pandas/core/frame.py\u001b[0m in \u001b[0;36m__getitem__\u001b[0;34m(self, key)\u001b[0m\n\u001b[1;32m   2680\u001b[0m         \u001b[0;32mif\u001b[0m \u001b[0misinstance\u001b[0m\u001b[0;34m(\u001b[0m\u001b[0mkey\u001b[0m\u001b[0;34m,\u001b[0m \u001b[0;34m(\u001b[0m\u001b[0mSeries\u001b[0m\u001b[0;34m,\u001b[0m \u001b[0mnp\u001b[0m\u001b[0;34m.\u001b[0m\u001b[0mndarray\u001b[0m\u001b[0;34m,\u001b[0m \u001b[0mIndex\u001b[0m\u001b[0;34m,\u001b[0m \u001b[0mlist\u001b[0m\u001b[0;34m)\u001b[0m\u001b[0;34m)\u001b[0m\u001b[0;34m:\u001b[0m\u001b[0;34m\u001b[0m\u001b[0;34m\u001b[0m\u001b[0m\n\u001b[1;32m   2681\u001b[0m             \u001b[0;31m# either boolean or fancy integer index\u001b[0m\u001b[0;34m\u001b[0m\u001b[0;34m\u001b[0m\u001b[0;34m\u001b[0m\u001b[0m\n\u001b[0;32m-> 2682\u001b[0;31m             \u001b[0;32mreturn\u001b[0m \u001b[0mself\u001b[0m\u001b[0;34m.\u001b[0m\u001b[0m_getitem_array\u001b[0m\u001b[0;34m(\u001b[0m\u001b[0mkey\u001b[0m\u001b[0;34m)\u001b[0m\u001b[0;34m\u001b[0m\u001b[0;34m\u001b[0m\u001b[0m\n\u001b[0m\u001b[1;32m   2683\u001b[0m         \u001b[0;32melif\u001b[0m \u001b[0misinstance\u001b[0m\u001b[0;34m(\u001b[0m\u001b[0mkey\u001b[0m\u001b[0;34m,\u001b[0m \u001b[0mDataFrame\u001b[0m\u001b[0;34m)\u001b[0m\u001b[0;34m:\u001b[0m\u001b[0;34m\u001b[0m\u001b[0;34m\u001b[0m\u001b[0m\n\u001b[1;32m   2684\u001b[0m             \u001b[0;32mreturn\u001b[0m \u001b[0mself\u001b[0m\u001b[0;34m.\u001b[0m\u001b[0m_getitem_frame\u001b[0m\u001b[0;34m(\u001b[0m\u001b[0mkey\u001b[0m\u001b[0;34m)\u001b[0m\u001b[0;34m\u001b[0m\u001b[0;34m\u001b[0m\u001b[0m\n",
      "\u001b[0;32m/usr/local/lib/python3.7/site-packages/pandas/core/frame.py\u001b[0m in \u001b[0;36m_getitem_array\u001b[0;34m(self, key)\u001b[0m\n\u001b[1;32m   2724\u001b[0m             \u001b[0;32mreturn\u001b[0m \u001b[0mself\u001b[0m\u001b[0;34m.\u001b[0m\u001b[0m_take\u001b[0m\u001b[0;34m(\u001b[0m\u001b[0mindexer\u001b[0m\u001b[0;34m,\u001b[0m \u001b[0maxis\u001b[0m\u001b[0;34m=\u001b[0m\u001b[0;36m0\u001b[0m\u001b[0;34m)\u001b[0m\u001b[0;34m\u001b[0m\u001b[0;34m\u001b[0m\u001b[0m\n\u001b[1;32m   2725\u001b[0m         \u001b[0;32melse\u001b[0m\u001b[0;34m:\u001b[0m\u001b[0;34m\u001b[0m\u001b[0;34m\u001b[0m\u001b[0m\n\u001b[0;32m-> 2726\u001b[0;31m             \u001b[0mindexer\u001b[0m \u001b[0;34m=\u001b[0m \u001b[0mself\u001b[0m\u001b[0;34m.\u001b[0m\u001b[0mloc\u001b[0m\u001b[0;34m.\u001b[0m\u001b[0m_convert_to_indexer\u001b[0m\u001b[0;34m(\u001b[0m\u001b[0mkey\u001b[0m\u001b[0;34m,\u001b[0m \u001b[0maxis\u001b[0m\u001b[0;34m=\u001b[0m\u001b[0;36m1\u001b[0m\u001b[0;34m)\u001b[0m\u001b[0;34m\u001b[0m\u001b[0;34m\u001b[0m\u001b[0m\n\u001b[0m\u001b[1;32m   2727\u001b[0m             \u001b[0;32mreturn\u001b[0m \u001b[0mself\u001b[0m\u001b[0;34m.\u001b[0m\u001b[0m_take\u001b[0m\u001b[0;34m(\u001b[0m\u001b[0mindexer\u001b[0m\u001b[0;34m,\u001b[0m \u001b[0maxis\u001b[0m\u001b[0;34m=\u001b[0m\u001b[0;36m1\u001b[0m\u001b[0;34m)\u001b[0m\u001b[0;34m\u001b[0m\u001b[0;34m\u001b[0m\u001b[0m\n\u001b[1;32m   2728\u001b[0m \u001b[0;34m\u001b[0m\u001b[0m\n",
      "\u001b[0;32m/usr/local/lib/python3.7/site-packages/pandas/core/indexing.py\u001b[0m in \u001b[0;36m_convert_to_indexer\u001b[0;34m(self, obj, axis, is_setter)\u001b[0m\n\u001b[1;32m   1325\u001b[0m                 \u001b[0;32mif\u001b[0m \u001b[0mmask\u001b[0m\u001b[0;34m.\u001b[0m\u001b[0many\u001b[0m\u001b[0;34m(\u001b[0m\u001b[0;34m)\u001b[0m\u001b[0;34m:\u001b[0m\u001b[0;34m\u001b[0m\u001b[0;34m\u001b[0m\u001b[0m\n\u001b[1;32m   1326\u001b[0m                     raise KeyError('{mask} not in index'\n\u001b[0;32m-> 1327\u001b[0;31m                                    .format(mask=objarr[mask]))\n\u001b[0m\u001b[1;32m   1328\u001b[0m \u001b[0;34m\u001b[0m\u001b[0m\n\u001b[1;32m   1329\u001b[0m                 \u001b[0;32mreturn\u001b[0m \u001b[0mcom\u001b[0m\u001b[0;34m.\u001b[0m\u001b[0m_values_from_object\u001b[0m\u001b[0;34m(\u001b[0m\u001b[0mindexer\u001b[0m\u001b[0;34m)\u001b[0m\u001b[0;34m\u001b[0m\u001b[0;34m\u001b[0m\u001b[0m\n",
      "\u001b[0;31mKeyError\u001b[0m: '[1.00000e-01 2.00000e-01 3.00000e-01 4.00000e-01 5.00000e-01 6.00000e-01\\n 7.00000e-01 8.00000e-01 9.00000e-01 1.00000e+00 4.94360e+02 4.98380e+02\\n 5.01830e+02 5.02000e+02 5.04390e+02 5.04470e+02 5.05270e+02 5.06460e+02\\n 5.07220e+02 5.07380e+02 5.10550e+02 5.11770e+02 5.11850e+02 5.11960e+02\\n 5.12590e+02 5.15020e+02 5.17210e+02 5.18220e+02 5.18890e+02 5.21330e+02\\n 1.04260e+03 1.04398e+03 1.04732e+03 1.05012e+03 1.05632e+03 1.05679e+03\\n 1.05680e+03 1.05755e+03 1.05893e+03 1.05977e+03 1.06000e+03 1.06122e+03\\n 1.06173e+03 1.06469e+03 1.06584e+03 1.06998e+03 1.07013e+03 1.07394e+03\\n 1.08182e+03 1.08420e+03 1.61507e+03 1.61817e+03 1.62612e+03 1.62705e+03\\n 1.62900e+03 1.62904e+03 1.63157e+03 1.63606e+03 1.63650e+03 1.64143e+03\\n 1.64166e+03 1.64384e+03 1.64581e+03 1.64753e+03 1.64790e+03 1.64837e+03\\n 1.65019e+03 1.65213e+03 1.66417e+03 1.66738e+03 2.13169e+03 2.13777e+03\\n 2.13838e+03 2.13959e+03 2.14997e+03 2.15592e+03 2.16001e+03 2.16029e+03\\n 2.16138e+03 2.16163e+03 2.16286e+03 2.16381e+03 2.16464e+03 2.16491e+03\\n 2.16831e+03 2.17200e+03 2.17400e+03 2.17435e+03 2.17638e+03 2.17639e+03\\n 2.17645e+03 2.17812e+03 2.17871e+03 2.17907e+03 2.18039e+03 2.18067e+03\\n 2.18162e+03 2.18274e+03 2.18567e+03 2.18585e+03 2.18598e+03 2.18618e+03\\n 2.18633e+03 2.18722e+03 2.18856e+03 2.19032e+03 2.19255e+03 2.19306e+03\\n 2.19360e+03 2.19367e+03 2.19489e+03 2.19700e+03 2.19747e+03 2.19890e+03\\n 2.19953e+03 2.20055e+03 2.20153e+03 2.20186e+03 2.20213e+03 2.20348e+03\\n 2.20359e+03 2.20616e+03 2.20637e+03 2.20647e+03 2.20694e+03 2.20758e+03\\n 2.20830e+03 2.20947e+03 2.20997e+03 2.21018e+03 2.21033e+03 2.21151e+03\\n 2.21202e+03 2.21217e+03 2.21236e+03 2.21355e+03 2.21459e+03 2.21498e+03\\n 2.21522e+03 2.21559e+03 2.21570e+03 2.21688e+03 2.21710e+03 2.21801e+03\\n 2.21804e+03 2.21908e+03 2.21930e+03 2.22084e+03 2.22092e+03 2.22195e+03\\n 2.22204e+03 2.22224e+03 2.22270e+03 2.22277e+03 2.22312e+03 2.22359e+03\\n 2.22372e+03 2.22502e+03 2.22542e+03 2.22580e+03 2.22636e+03 2.22641e+03\\n 2.22686e+03 2.22742e+03 2.22863e+03 2.22918e+03 2.22950e+03 2.22980e+03\\n 2.23323e+03 2.23352e+03 2.23359e+03 2.23508e+03 2.23565e+03 2.23639e+03\\n 2.23694e+03 2.23730e+03 2.23858e+03 2.24142e+03 2.24155e+03 2.24327e+03\\n 2.24671e+03 2.24819e+03 2.24831e+03 2.24927e+03 2.24934e+03 2.24979e+03\\n 2.25069e+03 2.25159e+03 2.25207e+03 2.25322e+03 2.25509e+03 2.25521e+03\\n 2.25645e+03 2.25779e+03 2.25796e+03 2.25817e+03 2.25833e+03 2.25911e+03\\n 2.25919e+03 2.26088e+03 2.26091e+03 2.26226e+03 2.26833e+03 2.26922e+03\\n 2.27454e+03 2.27636e+03 2.27695e+03 2.29252e+03         nan] not in index'"
     ]
    }
   ],
   "source": [
    "#Training and Testing Data\n",
    "X = data[['throughput']]\n",
    "y = data['CPU']\n",
    "X = X.fillna(X.mean())\n",
    "scaler = MinMaxScaler(feature_range=(0, 1))\n",
    "scaler.fit(X)\n",
    "X = scaler.transform(X)\n",
    "scaler_filename = \"scaler.save\"\n",
    "joblib.dump(scaler, scaler_filename) \n",
    "#X_train,X_test,y_train,y_test = train_test_split(X,y,test_size=0.3,random_state=101)\n",
    "lm = LinearRegression()\n",
    "n = len(X)\n",
    "kf = KFold(n_splits=5)\n",
    "fold = 0\n",
    "for train_index, test_index in kf.split(X):\n",
    "    fold += 1\n",
    "    X_train, X_test = X[train_index], X[test_index]\n",
    "    y_train, y_test = y[train_index], y[test_index]\n",
    "lm.fit(X_train,y_train)"
   ]
  },
  {
   "cell_type": "code",
   "execution_count": 88,
   "metadata": {},
   "outputs": [
    {
     "data": {
      "text/html": [
       "<div>\n",
       "<style scoped>\n",
       "    .dataframe tbody tr th:only-of-type {\n",
       "        vertical-align: middle;\n",
       "    }\n",
       "\n",
       "    .dataframe tbody tr th {\n",
       "        vertical-align: top;\n",
       "    }\n",
       "\n",
       "    .dataframe thead th {\n",
       "        text-align: right;\n",
       "    }\n",
       "</style>\n",
       "<table border=\"1\" class=\"dataframe\">\n",
       "  <thead>\n",
       "    <tr style=\"text-align: right;\">\n",
       "      <th></th>\n",
       "      <th>Throuput</th>\n",
       "      <th>Actual_CPU</th>\n",
       "      <th>Predicted_CPU</th>\n",
       "    </tr>\n",
       "  </thead>\n",
       "  <tbody>\n",
       "    <tr>\n",
       "      <th>0</th>\n",
       "      <td>2218.040000</td>\n",
       "      <td>0.9</td>\n",
       "      <td>0.590954</td>\n",
       "    </tr>\n",
       "    <tr>\n",
       "      <th>1</th>\n",
       "      <td>2222.700000</td>\n",
       "      <td>0.9</td>\n",
       "      <td>0.592447</td>\n",
       "    </tr>\n",
       "    <tr>\n",
       "      <th>2</th>\n",
       "      <td>2207.580000</td>\n",
       "      <td>0.9</td>\n",
       "      <td>0.587604</td>\n",
       "    </tr>\n",
       "    <tr>\n",
       "      <th>3</th>\n",
       "      <td>2243.270000</td>\n",
       "      <td>0.9</td>\n",
       "      <td>0.599035</td>\n",
       "    </tr>\n",
       "    <tr>\n",
       "      <th>4</th>\n",
       "      <td>2213.550000</td>\n",
       "      <td>0.9</td>\n",
       "      <td>0.589516</td>\n",
       "    </tr>\n",
       "    <tr>\n",
       "      <th>5</th>\n",
       "      <td>2262.260000</td>\n",
       "      <td>0.9</td>\n",
       "      <td>0.605118</td>\n",
       "    </tr>\n",
       "    <tr>\n",
       "      <th>6</th>\n",
       "      <td>2241.420000</td>\n",
       "      <td>0.9</td>\n",
       "      <td>0.598443</td>\n",
       "    </tr>\n",
       "    <tr>\n",
       "      <th>7</th>\n",
       "      <td>2235.650000</td>\n",
       "      <td>0.9</td>\n",
       "      <td>0.596595</td>\n",
       "    </tr>\n",
       "    <tr>\n",
       "      <th>8</th>\n",
       "      <td>2201.530000</td>\n",
       "      <td>0.9</td>\n",
       "      <td>0.585666</td>\n",
       "    </tr>\n",
       "    <tr>\n",
       "      <th>9</th>\n",
       "      <td>2255.210000</td>\n",
       "      <td>0.9</td>\n",
       "      <td>0.602860</td>\n",
       "    </tr>\n",
       "    <tr>\n",
       "      <th>10</th>\n",
       "      <td>2256.450000</td>\n",
       "      <td>0.9</td>\n",
       "      <td>0.603257</td>\n",
       "    </tr>\n",
       "    <tr>\n",
       "      <th>11</th>\n",
       "      <td>2233.520000</td>\n",
       "      <td>0.9</td>\n",
       "      <td>0.595912</td>\n",
       "    </tr>\n",
       "    <tr>\n",
       "      <th>12</th>\n",
       "      <td>2246.710000</td>\n",
       "      <td>0.9</td>\n",
       "      <td>0.600137</td>\n",
       "    </tr>\n",
       "    <tr>\n",
       "      <th>13</th>\n",
       "      <td>2253.220000</td>\n",
       "      <td>0.9</td>\n",
       "      <td>0.602222</td>\n",
       "    </tr>\n",
       "    <tr>\n",
       "      <th>14</th>\n",
       "      <td>2252.070000</td>\n",
       "      <td>0.9</td>\n",
       "      <td>0.601854</td>\n",
       "    </tr>\n",
       "    <tr>\n",
       "      <th>15</th>\n",
       "      <td>2250.690000</td>\n",
       "      <td>0.9</td>\n",
       "      <td>0.601412</td>\n",
       "    </tr>\n",
       "    <tr>\n",
       "      <th>16</th>\n",
       "      <td>2249.270000</td>\n",
       "      <td>0.9</td>\n",
       "      <td>0.600957</td>\n",
       "    </tr>\n",
       "    <tr>\n",
       "      <th>17</th>\n",
       "      <td>2276.360000</td>\n",
       "      <td>0.9</td>\n",
       "      <td>0.609634</td>\n",
       "    </tr>\n",
       "    <tr>\n",
       "      <th>18</th>\n",
       "      <td>2233.590000</td>\n",
       "      <td>0.9</td>\n",
       "      <td>0.595935</td>\n",
       "    </tr>\n",
       "    <tr>\n",
       "      <th>19</th>\n",
       "      <td>2225.020000</td>\n",
       "      <td>0.9</td>\n",
       "      <td>0.593190</td>\n",
       "    </tr>\n",
       "    <tr>\n",
       "      <th>20</th>\n",
       "      <td>2257.960000</td>\n",
       "      <td>1.0</td>\n",
       "      <td>0.603741</td>\n",
       "    </tr>\n",
       "    <tr>\n",
       "      <th>21</th>\n",
       "      <td>2249.790000</td>\n",
       "      <td>1.0</td>\n",
       "      <td>0.601124</td>\n",
       "    </tr>\n",
       "    <tr>\n",
       "      <th>22</th>\n",
       "      <td>1868.726231</td>\n",
       "      <td>1.0</td>\n",
       "      <td>0.479068</td>\n",
       "    </tr>\n",
       "    <tr>\n",
       "      <th>23</th>\n",
       "      <td>2223.590000</td>\n",
       "      <td>1.0</td>\n",
       "      <td>0.592732</td>\n",
       "    </tr>\n",
       "    <tr>\n",
       "      <th>24</th>\n",
       "      <td>2206.370000</td>\n",
       "      <td>1.0</td>\n",
       "      <td>0.587216</td>\n",
       "    </tr>\n",
       "    <tr>\n",
       "      <th>25</th>\n",
       "      <td>2226.410000</td>\n",
       "      <td>1.0</td>\n",
       "      <td>0.593635</td>\n",
       "    </tr>\n",
       "    <tr>\n",
       "      <th>26</th>\n",
       "      <td>2268.330000</td>\n",
       "      <td>1.0</td>\n",
       "      <td>0.607062</td>\n",
       "    </tr>\n",
       "    <tr>\n",
       "      <th>27</th>\n",
       "      <td>2274.540000</td>\n",
       "      <td>1.0</td>\n",
       "      <td>0.609051</td>\n",
       "    </tr>\n",
       "    <tr>\n",
       "      <th>28</th>\n",
       "      <td>2219.080000</td>\n",
       "      <td>1.0</td>\n",
       "      <td>0.591287</td>\n",
       "    </tr>\n",
       "    <tr>\n",
       "      <th>29</th>\n",
       "      <td>2258.170000</td>\n",
       "      <td>1.0</td>\n",
       "      <td>0.603808</td>\n",
       "    </tr>\n",
       "    <tr>\n",
       "      <th>30</th>\n",
       "      <td>2257.790000</td>\n",
       "      <td>1.0</td>\n",
       "      <td>0.603686</td>\n",
       "    </tr>\n",
       "    <tr>\n",
       "      <th>31</th>\n",
       "      <td>2292.520000</td>\n",
       "      <td>1.0</td>\n",
       "      <td>0.614810</td>\n",
       "    </tr>\n",
       "    <tr>\n",
       "      <th>32</th>\n",
       "      <td>2223.720000</td>\n",
       "      <td>1.0</td>\n",
       "      <td>0.592773</td>\n",
       "    </tr>\n",
       "    <tr>\n",
       "      <th>33</th>\n",
       "      <td>2229.180000</td>\n",
       "      <td>1.0</td>\n",
       "      <td>0.594522</td>\n",
       "    </tr>\n",
       "    <tr>\n",
       "      <th>34</th>\n",
       "      <td>2210.180000</td>\n",
       "      <td>1.0</td>\n",
       "      <td>0.588437</td>\n",
       "    </tr>\n",
       "    <tr>\n",
       "      <th>35</th>\n",
       "      <td>2259.110000</td>\n",
       "      <td>1.0</td>\n",
       "      <td>0.604109</td>\n",
       "    </tr>\n",
       "    <tr>\n",
       "      <th>36</th>\n",
       "      <td>2249.340000</td>\n",
       "      <td>1.0</td>\n",
       "      <td>0.600980</td>\n",
       "    </tr>\n",
       "    <tr>\n",
       "      <th>37</th>\n",
       "      <td>2241.550000</td>\n",
       "      <td>1.0</td>\n",
       "      <td>0.598484</td>\n",
       "    </tr>\n",
       "    <tr>\n",
       "      <th>38</th>\n",
       "      <td>2226.360000</td>\n",
       "      <td>1.0</td>\n",
       "      <td>0.593619</td>\n",
       "    </tr>\n",
       "    <tr>\n",
       "      <th>39</th>\n",
       "      <td>2248.310000</td>\n",
       "      <td>1.0</td>\n",
       "      <td>0.600650</td>\n",
       "    </tr>\n",
       "  </tbody>\n",
       "</table>\n",
       "</div>"
      ],
      "text/plain": [
       "       Throuput  Actual_CPU  Predicted_CPU\n",
       "0   2218.040000         0.9       0.590954\n",
       "1   2222.700000         0.9       0.592447\n",
       "2   2207.580000         0.9       0.587604\n",
       "3   2243.270000         0.9       0.599035\n",
       "4   2213.550000         0.9       0.589516\n",
       "5   2262.260000         0.9       0.605118\n",
       "6   2241.420000         0.9       0.598443\n",
       "7   2235.650000         0.9       0.596595\n",
       "8   2201.530000         0.9       0.585666\n",
       "9   2255.210000         0.9       0.602860\n",
       "10  2256.450000         0.9       0.603257\n",
       "11  2233.520000         0.9       0.595912\n",
       "12  2246.710000         0.9       0.600137\n",
       "13  2253.220000         0.9       0.602222\n",
       "14  2252.070000         0.9       0.601854\n",
       "15  2250.690000         0.9       0.601412\n",
       "16  2249.270000         0.9       0.600957\n",
       "17  2276.360000         0.9       0.609634\n",
       "18  2233.590000         0.9       0.595935\n",
       "19  2225.020000         0.9       0.593190\n",
       "20  2257.960000         1.0       0.603741\n",
       "21  2249.790000         1.0       0.601124\n",
       "22  1868.726231         1.0       0.479068\n",
       "23  2223.590000         1.0       0.592732\n",
       "24  2206.370000         1.0       0.587216\n",
       "25  2226.410000         1.0       0.593635\n",
       "26  2268.330000         1.0       0.607062\n",
       "27  2274.540000         1.0       0.609051\n",
       "28  2219.080000         1.0       0.591287\n",
       "29  2258.170000         1.0       0.603808\n",
       "30  2257.790000         1.0       0.603686\n",
       "31  2292.520000         1.0       0.614810\n",
       "32  2223.720000         1.0       0.592773\n",
       "33  2229.180000         1.0       0.594522\n",
       "34  2210.180000         1.0       0.588437\n",
       "35  2259.110000         1.0       0.604109\n",
       "36  2249.340000         1.0       0.600980\n",
       "37  2241.550000         1.0       0.598484\n",
       "38  2226.360000         1.0       0.593619\n",
       "39  2248.310000         1.0       0.600650"
      ]
     },
     "execution_count": 88,
     "metadata": {},
     "output_type": "execute_result"
    }
   ],
   "source": [
    "#Test data prediction\n",
    "prediction = lm.predict(X_test)\n",
    "X_test = np.array(X_test)\n",
    "y_test = np.array(list(y_test))\n",
    "prediction= np.array(prediction)\n",
    "df = pd.DataFrame({'Throuput':X_test.flatten(),'Actual_CPU': y_test.flatten(), 'Predicted_CPU': prediction.flatten()})\n",
    "df"
   ]
  },
  {
   "cell_type": "code",
   "execution_count": 89,
   "metadata": {},
   "outputs": [
    {
     "data": {
      "text/plain": [
       "Text(0, 0.5, 'Predicted Y')"
      ]
     },
     "execution_count": 89,
     "metadata": {},
     "output_type": "execute_result"
    },
    {
     "data": {
      "image/png": "[encoded data removed]",
      "text/plain": [
       "<Figure size 432x288 with 1 Axes>"
      ]
     },
     "metadata": {},
     "output_type": "display_data"
    }
   ],
   "source": [
    "#Plot prediction\n",
    "plt.scatter(X_test, y_test,  color='gray')\n",
    "plt.plot(X_test, prediction, color='red', linewidth=2)\n",
    "plt.xlabel(\"Y test\")\n",
    "plt.ylabel(\"Predicted Y\")\n"
   ]
  },
  {
   "cell_type": "code",
   "execution_count": 49,
   "metadata": {},
   "outputs": [
    {
     "name": "stdout",
     "output_type": "stream",
     "text": [
      "MAE: 0.35466141464422934\n",
      "MSE: 0.1289048900174571\n",
      "RMSE: 0.35903327146304576\n"
     ]
    }
   ],
   "source": [
    "#Model Evaluation\n",
    "print('MAE:', metrics.mean_absolute_error(y_test, prediction))\n",
    "print('MSE:', metrics.mean_squared_error(y_test, prediction))\n",
    "print('RMSE:', np.sqrt(metrics.mean_squared_error(y_test, prediction)))\n"
   ]
  },
  {
   "cell_type": "code",
   "execution_count": 50,
   "metadata": {},
   "outputs": [
    {
     "name": "stderr",
     "output_type": "stream",
     "text": [
      "/usr/local/lib/python3.7/site-packages/scipy/stats/stats.py:1713: FutureWarning: Using a non-tuple sequence for multidimensional indexing is deprecated; use `arr[tuple(seq)]` instead of `arr[seq]`. In the future this will be interpreted as an array index, `arr[np.array(seq)]`, which will result either in an error or a different result.\n",
      "  return np.add.reduce(sorted[indexer] * weights, axis=axis) / sumval\n"
     ]
    },
    {
     "data": {
      "text/plain": [
       "<matplotlib.axes._subplots.AxesSubplot at 0x11ac04e80>"
      ]
     },
     "execution_count": 50,
     "metadata": {},
     "output_type": "execute_result"
    },
    {
     "data": {
      "image/png": "[encoded data removed]",
      "text/plain": [
       "<Figure size 432x288 with 1 Axes>"
      ]
     },
     "metadata": {},
     "output_type": "display_data"
    }
   ],
   "source": [
    "#Residuals\n",
    "sns.distplot(y_test-prediction,bins=30)"
   ]
  },
  {
   "cell_type": "code",
   "execution_count": 51,
   "metadata": {},
   "outputs": [],
   "source": [
    "# save the model to disk\n",
    "filename = '../models/linearReg_model.sav'\n",
    "pickle.dump(lm, open(filename, 'wb'))"
   ]
  },
  {
   "cell_type": "code",
   "execution_count": 52,
   "metadata": {},
   "outputs": [
    {
     "name": "stdout",
     "output_type": "stream",
     "text": [
      "[[-26.936424]]\n"
     ]
    }
   ],
   "source": [
    "data = scaler.transform(np.float32([[10]])) \n",
    "print(data)"
   ]
  },
  {
   "cell_type": "code",
   "execution_count": 53,
   "metadata": {},
   "outputs": [
    {
     "data": {
      "text/plain": [
       "array([0.0388534])"
      ]
     },
     "execution_count": 53,
     "metadata": {},
     "output_type": "execute_result"
    }
   ],
   "source": [
    "lm.predict([[0]])"
   ]
  },
  {
   "cell_type": "code",
   "execution_count": null,
   "metadata": {},
   "outputs": [],
   "source": []
  }
 ],
 "metadata": {
  "kernelspec": {
   "display_name": "Python 3",
   "language": "python",
   "name": "python3"
  },
  "language_info": {
   "codemirror_mode": {
    "name": "ipython",
    "version": 3
   },
   "file_extension": ".py",
   "mimetype": "text/x-python",
   "name": "python",
   "nbconvert_exporter": "python",
   "pygments_lexer": "ipython3",
   "version": "3.7.1"
  }
 },
 "nbformat": 4,
 "nbformat_minor": 2
}
